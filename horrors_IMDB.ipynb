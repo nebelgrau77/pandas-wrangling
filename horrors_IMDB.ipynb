{
 "cells": [
  {
   "cell_type": "markdown",
   "metadata": {},
   "source": [
    "#Kaggle IMDB Horror Movies dataset\n",
    "\n",
    "I saw this Halloween-special dataset and decided to give it a try: it's one thing doing exercises on DataCamp, it's another one to actually apply all I've learned so far to a \"real thing\", so let's try! Here's the dataset: https://www.kaggle.com/PromptCloudHQ/imdb-horror-movie-dataset/version/1\n",
    "\n",
    "Let's load the usual tools first:\n"
   ]
  },
  {
   "cell_type": "code",
   "execution_count": 1,
   "metadata": {},
   "outputs": [],
   "source": [
    "import pandas as pd\n",
    "\n",
    "import matplotlib.pyplot as plt"
   ]
  },
  {
   "cell_type": "code",
   "execution_count": 23,
   "metadata": {},
   "outputs": [],
   "source": [
    "horrors = pd.read_csv('IMDB Horror movies.csv')"
   ]
  },
  {
   "cell_type": "markdown",
   "metadata": {},
   "source": [
    "\n",
    "Let's see what it is about:\n"
   ]
  },
  {
   "cell_type": "code",
   "execution_count": 3,
   "metadata": {},
   "outputs": [
    {
     "data": {
      "text/html": [
       "<div>\n",
       "<style scoped>\n",
       "    .dataframe tbody tr th:only-of-type {\n",
       "        vertical-align: middle;\n",
       "    }\n",
       "\n",
       "    .dataframe tbody tr th {\n",
       "        vertical-align: top;\n",
       "    }\n",
       "\n",
       "    .dataframe thead th {\n",
       "        text-align: right;\n",
       "    }\n",
       "</style>\n",
       "<table border=\"1\" class=\"dataframe\">\n",
       "  <thead>\n",
       "    <tr style=\"text-align: right;\">\n",
       "      <th></th>\n",
       "      <th>Title</th>\n",
       "      <th>Genres</th>\n",
       "      <th>Release Date</th>\n",
       "      <th>Release Country</th>\n",
       "      <th>Movie Rating</th>\n",
       "      <th>Review Rating</th>\n",
       "      <th>Movie Run Time</th>\n",
       "      <th>Plot</th>\n",
       "      <th>Cast</th>\n",
       "      <th>Language</th>\n",
       "      <th>Filming Locations</th>\n",
       "      <th>Budget</th>\n",
       "    </tr>\n",
       "  </thead>\n",
       "  <tbody>\n",
       "    <tr>\n",
       "      <th>0</th>\n",
       "      <td>Gut (2012)</td>\n",
       "      <td>Drama| Horror| Thriller</td>\n",
       "      <td>26-Oct-12</td>\n",
       "      <td>USA</td>\n",
       "      <td>NaN</td>\n",
       "      <td>3.9</td>\n",
       "      <td>91 min</td>\n",
       "      <td>Directed by Elias. With Jason Vail, Nicholas W...</td>\n",
       "      <td>Jason Vail|Nicholas Wilder|Sarah Schoofs|Kirst...</td>\n",
       "      <td>English</td>\n",
       "      <td>New York, USA</td>\n",
       "      <td>NaN</td>\n",
       "    </tr>\n",
       "    <tr>\n",
       "      <th>1</th>\n",
       "      <td>The Haunting of Mia Moss (2017)</td>\n",
       "      <td>Horror</td>\n",
       "      <td>13-Jan-17</td>\n",
       "      <td>USA</td>\n",
       "      <td>NaN</td>\n",
       "      <td>NaN</td>\n",
       "      <td>NaN</td>\n",
       "      <td>Directed by Jake Zelch. With Nicola Fiore, Bri...</td>\n",
       "      <td>Nicola Fiore|Brinke Stevens|Curtis Carnahan|Ja...</td>\n",
       "      <td>English</td>\n",
       "      <td>NaN</td>\n",
       "      <td>$30,000</td>\n",
       "    </tr>\n",
       "    <tr>\n",
       "      <th>2</th>\n",
       "      <td>Sleepwalking (2017)</td>\n",
       "      <td>Horror</td>\n",
       "      <td>21-Oct-17</td>\n",
       "      <td>Canada</td>\n",
       "      <td>NaN</td>\n",
       "      <td>NaN</td>\n",
       "      <td>NaN</td>\n",
       "      <td>Directed by David Briggs. With Alysia Topol, A...</td>\n",
       "      <td>Alysia Topol|Anthony Makela|Kelsi Ashley|Patri...</td>\n",
       "      <td>English</td>\n",
       "      <td>Sudbury, Ontario, Canada</td>\n",
       "      <td>NaN</td>\n",
       "    </tr>\n",
       "    <tr>\n",
       "      <th>3</th>\n",
       "      <td>Treasure Chest of Horrors II (2013)</td>\n",
       "      <td>Comedy| Horror| Thriller</td>\n",
       "      <td>23-Apr-13</td>\n",
       "      <td>USA</td>\n",
       "      <td>NOT RATED</td>\n",
       "      <td>3.7</td>\n",
       "      <td>82 min</td>\n",
       "      <td>Directed by M. Kelley, Shawn C. Phillips, Alex...</td>\n",
       "      <td>Veronica Ricci|Nicholas Adam Clark|James Culle...</td>\n",
       "      <td>English</td>\n",
       "      <td>Baltimore, Maryland, USA</td>\n",
       "      <td>NaN</td>\n",
       "    </tr>\n",
       "    <tr>\n",
       "      <th>4</th>\n",
       "      <td>Infidus (2015)</td>\n",
       "      <td>Crime| Drama| Horror</td>\n",
       "      <td>10-Apr-15</td>\n",
       "      <td>USA</td>\n",
       "      <td>NaN</td>\n",
       "      <td>5.8</td>\n",
       "      <td>80 min</td>\n",
       "      <td>Directed by Giulio De Santi. With Bonini Mino,...</td>\n",
       "      <td>Bonini Mino|Massimo Caratelli|Maurizio Zaffino...</td>\n",
       "      <td>Italian</td>\n",
       "      <td>NaN</td>\n",
       "      <td>NaN</td>\n",
       "    </tr>\n",
       "  </tbody>\n",
       "</table>\n",
       "</div>"
      ],
      "text/plain": [
       "                                 Title                     Genres  \\\n",
       "0                           Gut (2012)    Drama| Horror| Thriller   \n",
       "1      The Haunting of Mia Moss (2017)                     Horror   \n",
       "2                  Sleepwalking (2017)                     Horror   \n",
       "3  Treasure Chest of Horrors II (2013)   Comedy| Horror| Thriller   \n",
       "4                       Infidus (2015)       Crime| Drama| Horror   \n",
       "\n",
       "  Release Date Release Country Movie Rating  Review Rating Movie Run Time  \\\n",
       "0    26-Oct-12             USA          NaN            3.9         91 min   \n",
       "1    13-Jan-17             USA          NaN            NaN            NaN   \n",
       "2    21-Oct-17          Canada          NaN            NaN            NaN   \n",
       "3    23-Apr-13             USA    NOT RATED            3.7         82 min   \n",
       "4    10-Apr-15             USA          NaN            5.8         80 min   \n",
       "\n",
       "                                                Plot  \\\n",
       "0  Directed by Elias. With Jason Vail, Nicholas W...   \n",
       "1  Directed by Jake Zelch. With Nicola Fiore, Bri...   \n",
       "2  Directed by David Briggs. With Alysia Topol, A...   \n",
       "3  Directed by M. Kelley, Shawn C. Phillips, Alex...   \n",
       "4  Directed by Giulio De Santi. With Bonini Mino,...   \n",
       "\n",
       "                                                Cast Language  \\\n",
       "0  Jason Vail|Nicholas Wilder|Sarah Schoofs|Kirst...  English   \n",
       "1  Nicola Fiore|Brinke Stevens|Curtis Carnahan|Ja...  English   \n",
       "2  Alysia Topol|Anthony Makela|Kelsi Ashley|Patri...  English   \n",
       "3  Veronica Ricci|Nicholas Adam Clark|James Culle...  English   \n",
       "4  Bonini Mino|Massimo Caratelli|Maurizio Zaffino...  Italian   \n",
       "\n",
       "          Filming Locations    Budget  \n",
       "0             New York, USA       NaN  \n",
       "1                       NaN  $30,000   \n",
       "2  Sudbury, Ontario, Canada       NaN  \n",
       "3  Baltimore, Maryland, USA       NaN  \n",
       "4                       NaN       NaN  "
      ]
     },
     "execution_count": 3,
     "metadata": {},
     "output_type": "execute_result"
    }
   ],
   "source": [
    "horrors.head()"
   ]
  },
  {
   "cell_type": "code",
   "execution_count": 4,
   "metadata": {},
   "outputs": [
    {
     "name": "stdout",
     "output_type": "stream",
     "text": [
      "<class 'pandas.core.frame.DataFrame'>\n",
      "RangeIndex: 3328 entries, 0 to 3327\n",
      "Data columns (total 12 columns):\n",
      "Title                3328 non-null object\n",
      "Genres               3327 non-null object\n",
      "Release Date         3328 non-null object\n",
      "Release Country      3328 non-null object\n",
      "Movie Rating         1451 non-null object\n",
      "Review Rating        3076 non-null float64\n",
      "Movie Run Time       2784 non-null object\n",
      "Plot                 3327 non-null object\n",
      "Cast                 3314 non-null object\n",
      "Language             3257 non-null object\n",
      "Filming Locations    2096 non-null object\n",
      "Budget               1234 non-null object\n",
      "dtypes: float64(1), object(11)\n",
      "memory usage: 312.1+ KB\n"
     ]
    }
   ],
   "source": [
    "horrors.info()"
   ]
  },
  {
   "cell_type": "markdown",
   "metadata": {},
   "source": [
    "\n",
    "OK, so it's just a few columns, 3328 rows but lots of information missing and most columns are of the type 'object', which is not very useful. There's some redundant information, like the year in the 'Title' column, but there's also some useful additionalinformation in the 'Plot' column. I can start with some cleanup. Please note that everything here is just the clean version of the notebook, as it took hours to find out how to do things :) \n"
   ]
  },
  {
   "cell_type": "markdown",
   "metadata": {},
   "source": [
    "\n",
    "To begin with, I can convert the 'Release Date' into timestamps, and then extract years, months and days of the week from there. To do it in one go I wrote a simple function.\n"
   ]
  },
  {
   "cell_type": "code",
   "execution_count": 24,
   "metadata": {},
   "outputs": [],
   "source": [
    "horrors.loc[:,'Release Date'] = pd.to_datetime(horrors.loc[:,'Release Date'])"
   ]
  },
  {
   "cell_type": "code",
   "execution_count": 25,
   "metadata": {},
   "outputs": [],
   "source": [
    "def datesplitter(date):\n",
    "    '''extracts year, month, day and day of the week from a timestamp'''\n",
    "    year = date.year\n",
    "    month = date.month\n",
    "    day = date.day\n",
    "    weekday = date.weekday_name\n",
    "    return year, month, day, weekday"
   ]
  },
  {
   "cell_type": "markdown",
   "metadata": {},
   "source": [
    "\n",
    "And now to apply this to our dataframe: \n"
   ]
  },
  {
   "cell_type": "code",
   "execution_count": 26,
   "metadata": {},
   "outputs": [
    {
     "name": "stderr",
     "output_type": "stream",
     "text": [
      "C:\\____michal\\WPy-3662\\python-3.6.6.amd64\\lib\\site-packages\\ipykernel_launcher.py:6: FutureWarning: `weekday_name` is deprecated and will be removed in a future version. Use `day_name` instead\n",
      "  \n"
     ]
    }
   ],
   "source": [
    "horrors[['RelYear', 'RelMonth', 'RelDay', 'RelWeekday']] = horrors.apply(lambda date: pd.Series(datesplitter(date['Release Date'])), axis = 1)"
   ]
  },
  {
   "cell_type": "code",
   "execution_count": 27,
   "metadata": {},
   "outputs": [
    {
     "data": {
      "text/html": [
       "<div>\n",
       "<style scoped>\n",
       "    .dataframe tbody tr th:only-of-type {\n",
       "        vertical-align: middle;\n",
       "    }\n",
       "\n",
       "    .dataframe tbody tr th {\n",
       "        vertical-align: top;\n",
       "    }\n",
       "\n",
       "    .dataframe thead th {\n",
       "        text-align: right;\n",
       "    }\n",
       "</style>\n",
       "<table border=\"1\" class=\"dataframe\">\n",
       "  <thead>\n",
       "    <tr style=\"text-align: right;\">\n",
       "      <th></th>\n",
       "      <th>Title</th>\n",
       "      <th>Genres</th>\n",
       "      <th>Release Date</th>\n",
       "      <th>Release Country</th>\n",
       "      <th>Movie Rating</th>\n",
       "      <th>Review Rating</th>\n",
       "      <th>Movie Run Time</th>\n",
       "      <th>Plot</th>\n",
       "      <th>Cast</th>\n",
       "      <th>Language</th>\n",
       "      <th>Filming Locations</th>\n",
       "      <th>Budget</th>\n",
       "      <th>RelYear</th>\n",
       "      <th>RelMonth</th>\n",
       "      <th>RelDay</th>\n",
       "      <th>RelWeekday</th>\n",
       "    </tr>\n",
       "  </thead>\n",
       "  <tbody>\n",
       "    <tr>\n",
       "      <th>0</th>\n",
       "      <td>Gut (2012)</td>\n",
       "      <td>Drama| Horror| Thriller</td>\n",
       "      <td>2012-10-26</td>\n",
       "      <td>USA</td>\n",
       "      <td>NaN</td>\n",
       "      <td>3.9</td>\n",
       "      <td>91 min</td>\n",
       "      <td>Directed by Elias. With Jason Vail, Nicholas W...</td>\n",
       "      <td>Jason Vail|Nicholas Wilder|Sarah Schoofs|Kirst...</td>\n",
       "      <td>English</td>\n",
       "      <td>New York, USA</td>\n",
       "      <td>NaN</td>\n",
       "      <td>2012</td>\n",
       "      <td>10</td>\n",
       "      <td>26</td>\n",
       "      <td>Friday</td>\n",
       "    </tr>\n",
       "    <tr>\n",
       "      <th>1</th>\n",
       "      <td>The Haunting of Mia Moss (2017)</td>\n",
       "      <td>Horror</td>\n",
       "      <td>2017-01-13</td>\n",
       "      <td>USA</td>\n",
       "      <td>NaN</td>\n",
       "      <td>NaN</td>\n",
       "      <td>NaN</td>\n",
       "      <td>Directed by Jake Zelch. With Nicola Fiore, Bri...</td>\n",
       "      <td>Nicola Fiore|Brinke Stevens|Curtis Carnahan|Ja...</td>\n",
       "      <td>English</td>\n",
       "      <td>NaN</td>\n",
       "      <td>$30,000</td>\n",
       "      <td>2017</td>\n",
       "      <td>1</td>\n",
       "      <td>13</td>\n",
       "      <td>Friday</td>\n",
       "    </tr>\n",
       "    <tr>\n",
       "      <th>2</th>\n",
       "      <td>Sleepwalking (2017)</td>\n",
       "      <td>Horror</td>\n",
       "      <td>2017-10-21</td>\n",
       "      <td>Canada</td>\n",
       "      <td>NaN</td>\n",
       "      <td>NaN</td>\n",
       "      <td>NaN</td>\n",
       "      <td>Directed by David Briggs. With Alysia Topol, A...</td>\n",
       "      <td>Alysia Topol|Anthony Makela|Kelsi Ashley|Patri...</td>\n",
       "      <td>English</td>\n",
       "      <td>Sudbury, Ontario, Canada</td>\n",
       "      <td>NaN</td>\n",
       "      <td>2017</td>\n",
       "      <td>10</td>\n",
       "      <td>21</td>\n",
       "      <td>Saturday</td>\n",
       "    </tr>\n",
       "    <tr>\n",
       "      <th>3</th>\n",
       "      <td>Treasure Chest of Horrors II (2013)</td>\n",
       "      <td>Comedy| Horror| Thriller</td>\n",
       "      <td>2013-04-23</td>\n",
       "      <td>USA</td>\n",
       "      <td>NOT RATED</td>\n",
       "      <td>3.7</td>\n",
       "      <td>82 min</td>\n",
       "      <td>Directed by M. Kelley, Shawn C. Phillips, Alex...</td>\n",
       "      <td>Veronica Ricci|Nicholas Adam Clark|James Culle...</td>\n",
       "      <td>English</td>\n",
       "      <td>Baltimore, Maryland, USA</td>\n",
       "      <td>NaN</td>\n",
       "      <td>2013</td>\n",
       "      <td>4</td>\n",
       "      <td>23</td>\n",
       "      <td>Tuesday</td>\n",
       "    </tr>\n",
       "    <tr>\n",
       "      <th>4</th>\n",
       "      <td>Infidus (2015)</td>\n",
       "      <td>Crime| Drama| Horror</td>\n",
       "      <td>2015-04-10</td>\n",
       "      <td>USA</td>\n",
       "      <td>NaN</td>\n",
       "      <td>5.8</td>\n",
       "      <td>80 min</td>\n",
       "      <td>Directed by Giulio De Santi. With Bonini Mino,...</td>\n",
       "      <td>Bonini Mino|Massimo Caratelli|Maurizio Zaffino...</td>\n",
       "      <td>Italian</td>\n",
       "      <td>NaN</td>\n",
       "      <td>NaN</td>\n",
       "      <td>2015</td>\n",
       "      <td>4</td>\n",
       "      <td>10</td>\n",
       "      <td>Friday</td>\n",
       "    </tr>\n",
       "  </tbody>\n",
       "</table>\n",
       "</div>"
      ],
      "text/plain": [
       "                                 Title                     Genres  \\\n",
       "0                           Gut (2012)    Drama| Horror| Thriller   \n",
       "1      The Haunting of Mia Moss (2017)                     Horror   \n",
       "2                  Sleepwalking (2017)                     Horror   \n",
       "3  Treasure Chest of Horrors II (2013)   Comedy| Horror| Thriller   \n",
       "4                       Infidus (2015)       Crime| Drama| Horror   \n",
       "\n",
       "  Release Date Release Country Movie Rating  Review Rating Movie Run Time  \\\n",
       "0   2012-10-26             USA          NaN            3.9         91 min   \n",
       "1   2017-01-13             USA          NaN            NaN            NaN   \n",
       "2   2017-10-21          Canada          NaN            NaN            NaN   \n",
       "3   2013-04-23             USA    NOT RATED            3.7         82 min   \n",
       "4   2015-04-10             USA          NaN            5.8         80 min   \n",
       "\n",
       "                                                Plot  \\\n",
       "0  Directed by Elias. With Jason Vail, Nicholas W...   \n",
       "1  Directed by Jake Zelch. With Nicola Fiore, Bri...   \n",
       "2  Directed by David Briggs. With Alysia Topol, A...   \n",
       "3  Directed by M. Kelley, Shawn C. Phillips, Alex...   \n",
       "4  Directed by Giulio De Santi. With Bonini Mino,...   \n",
       "\n",
       "                                                Cast Language  \\\n",
       "0  Jason Vail|Nicholas Wilder|Sarah Schoofs|Kirst...  English   \n",
       "1  Nicola Fiore|Brinke Stevens|Curtis Carnahan|Ja...  English   \n",
       "2  Alysia Topol|Anthony Makela|Kelsi Ashley|Patri...  English   \n",
       "3  Veronica Ricci|Nicholas Adam Clark|James Culle...  English   \n",
       "4  Bonini Mino|Massimo Caratelli|Maurizio Zaffino...  Italian   \n",
       "\n",
       "          Filming Locations    Budget  RelYear  RelMonth  RelDay RelWeekday  \n",
       "0             New York, USA       NaN     2012        10      26     Friday  \n",
       "1                       NaN  $30,000      2017         1      13     Friday  \n",
       "2  Sudbury, Ontario, Canada       NaN     2017        10      21   Saturday  \n",
       "3  Baltimore, Maryland, USA       NaN     2013         4      23    Tuesday  \n",
       "4                       NaN       NaN     2015         4      10     Friday  "
      ]
     },
     "execution_count": 27,
     "metadata": {},
     "output_type": "execute_result"
    }
   ],
   "source": [
    "horrors.head()"
   ]
  },
  {
   "cell_type": "markdown",
   "metadata": {},
   "source": [
    "\n",
    "At this point I can drop the 'Release Date' column, as it's not necessary anymore:\n"
   ]
  },
  {
   "cell_type": "code",
   "execution_count": 28,
   "metadata": {},
   "outputs": [],
   "source": [
    "horrors = horrors.drop('Release Date', axis = 1)"
   ]
  },
  {
   "cell_type": "markdown",
   "metadata": {},
   "source": [
    "\n",
    "While I'm at it, I will also remove the year from the 'Title' column. The year is always written as four digits in brackets, with a whitespace between the title and the first bracket: it's enough to remove it.\n"
   ]
  },
  {
   "cell_type": "code",
   "execution_count": 29,
   "metadata": {},
   "outputs": [],
   "source": [
    "\n",
    "horrors['Title'] = horrors['Title'].str.replace('\\s\\(\\d*\\)', '')\n"
   ]
  },
  {
   "cell_type": "code",
   "execution_count": 30,
   "metadata": {},
   "outputs": [
    {
     "data": {
      "text/html": [
       "<div>\n",
       "<style scoped>\n",
       "    .dataframe tbody tr th:only-of-type {\n",
       "        vertical-align: middle;\n",
       "    }\n",
       "\n",
       "    .dataframe tbody tr th {\n",
       "        vertical-align: top;\n",
       "    }\n",
       "\n",
       "    .dataframe thead th {\n",
       "        text-align: right;\n",
       "    }\n",
       "</style>\n",
       "<table border=\"1\" class=\"dataframe\">\n",
       "  <thead>\n",
       "    <tr style=\"text-align: right;\">\n",
       "      <th></th>\n",
       "      <th>Title</th>\n",
       "      <th>Genres</th>\n",
       "      <th>Release Country</th>\n",
       "      <th>Movie Rating</th>\n",
       "      <th>Review Rating</th>\n",
       "      <th>Movie Run Time</th>\n",
       "      <th>Plot</th>\n",
       "      <th>Cast</th>\n",
       "      <th>Language</th>\n",
       "      <th>Filming Locations</th>\n",
       "      <th>Budget</th>\n",
       "      <th>RelYear</th>\n",
       "      <th>RelMonth</th>\n",
       "      <th>RelDay</th>\n",
       "      <th>RelWeekday</th>\n",
       "    </tr>\n",
       "  </thead>\n",
       "  <tbody>\n",
       "    <tr>\n",
       "      <th>0</th>\n",
       "      <td>Gut</td>\n",
       "      <td>Drama| Horror| Thriller</td>\n",
       "      <td>USA</td>\n",
       "      <td>NaN</td>\n",
       "      <td>3.9</td>\n",
       "      <td>91 min</td>\n",
       "      <td>Directed by Elias. With Jason Vail, Nicholas W...</td>\n",
       "      <td>Jason Vail|Nicholas Wilder|Sarah Schoofs|Kirst...</td>\n",
       "      <td>English</td>\n",
       "      <td>New York, USA</td>\n",
       "      <td>NaN</td>\n",
       "      <td>2012</td>\n",
       "      <td>10</td>\n",
       "      <td>26</td>\n",
       "      <td>Friday</td>\n",
       "    </tr>\n",
       "    <tr>\n",
       "      <th>1</th>\n",
       "      <td>The Haunting of Mia Moss</td>\n",
       "      <td>Horror</td>\n",
       "      <td>USA</td>\n",
       "      <td>NaN</td>\n",
       "      <td>NaN</td>\n",
       "      <td>NaN</td>\n",
       "      <td>Directed by Jake Zelch. With Nicola Fiore, Bri...</td>\n",
       "      <td>Nicola Fiore|Brinke Stevens|Curtis Carnahan|Ja...</td>\n",
       "      <td>English</td>\n",
       "      <td>NaN</td>\n",
       "      <td>$30,000</td>\n",
       "      <td>2017</td>\n",
       "      <td>1</td>\n",
       "      <td>13</td>\n",
       "      <td>Friday</td>\n",
       "    </tr>\n",
       "    <tr>\n",
       "      <th>2</th>\n",
       "      <td>Sleepwalking</td>\n",
       "      <td>Horror</td>\n",
       "      <td>Canada</td>\n",
       "      <td>NaN</td>\n",
       "      <td>NaN</td>\n",
       "      <td>NaN</td>\n",
       "      <td>Directed by David Briggs. With Alysia Topol, A...</td>\n",
       "      <td>Alysia Topol|Anthony Makela|Kelsi Ashley|Patri...</td>\n",
       "      <td>English</td>\n",
       "      <td>Sudbury, Ontario, Canada</td>\n",
       "      <td>NaN</td>\n",
       "      <td>2017</td>\n",
       "      <td>10</td>\n",
       "      <td>21</td>\n",
       "      <td>Saturday</td>\n",
       "    </tr>\n",
       "    <tr>\n",
       "      <th>3</th>\n",
       "      <td>Treasure Chest of Horrors II</td>\n",
       "      <td>Comedy| Horror| Thriller</td>\n",
       "      <td>USA</td>\n",
       "      <td>NOT RATED</td>\n",
       "      <td>3.7</td>\n",
       "      <td>82 min</td>\n",
       "      <td>Directed by M. Kelley, Shawn C. Phillips, Alex...</td>\n",
       "      <td>Veronica Ricci|Nicholas Adam Clark|James Culle...</td>\n",
       "      <td>English</td>\n",
       "      <td>Baltimore, Maryland, USA</td>\n",
       "      <td>NaN</td>\n",
       "      <td>2013</td>\n",
       "      <td>4</td>\n",
       "      <td>23</td>\n",
       "      <td>Tuesday</td>\n",
       "    </tr>\n",
       "    <tr>\n",
       "      <th>4</th>\n",
       "      <td>Infidus</td>\n",
       "      <td>Crime| Drama| Horror</td>\n",
       "      <td>USA</td>\n",
       "      <td>NaN</td>\n",
       "      <td>5.8</td>\n",
       "      <td>80 min</td>\n",
       "      <td>Directed by Giulio De Santi. With Bonini Mino,...</td>\n",
       "      <td>Bonini Mino|Massimo Caratelli|Maurizio Zaffino...</td>\n",
       "      <td>Italian</td>\n",
       "      <td>NaN</td>\n",
       "      <td>NaN</td>\n",
       "      <td>2015</td>\n",
       "      <td>4</td>\n",
       "      <td>10</td>\n",
       "      <td>Friday</td>\n",
       "    </tr>\n",
       "  </tbody>\n",
       "</table>\n",
       "</div>"
      ],
      "text/plain": [
       "                          Title                     Genres Release Country  \\\n",
       "0                           Gut    Drama| Horror| Thriller             USA   \n",
       "1      The Haunting of Mia Moss                     Horror             USA   \n",
       "2                  Sleepwalking                     Horror          Canada   \n",
       "3  Treasure Chest of Horrors II   Comedy| Horror| Thriller             USA   \n",
       "4                       Infidus       Crime| Drama| Horror             USA   \n",
       "\n",
       "  Movie Rating  Review Rating Movie Run Time  \\\n",
       "0          NaN            3.9         91 min   \n",
       "1          NaN            NaN            NaN   \n",
       "2          NaN            NaN            NaN   \n",
       "3    NOT RATED            3.7         82 min   \n",
       "4          NaN            5.8         80 min   \n",
       "\n",
       "                                                Plot  \\\n",
       "0  Directed by Elias. With Jason Vail, Nicholas W...   \n",
       "1  Directed by Jake Zelch. With Nicola Fiore, Bri...   \n",
       "2  Directed by David Briggs. With Alysia Topol, A...   \n",
       "3  Directed by M. Kelley, Shawn C. Phillips, Alex...   \n",
       "4  Directed by Giulio De Santi. With Bonini Mino,...   \n",
       "\n",
       "                                                Cast Language  \\\n",
       "0  Jason Vail|Nicholas Wilder|Sarah Schoofs|Kirst...  English   \n",
       "1  Nicola Fiore|Brinke Stevens|Curtis Carnahan|Ja...  English   \n",
       "2  Alysia Topol|Anthony Makela|Kelsi Ashley|Patri...  English   \n",
       "3  Veronica Ricci|Nicholas Adam Clark|James Culle...  English   \n",
       "4  Bonini Mino|Massimo Caratelli|Maurizio Zaffino...  Italian   \n",
       "\n",
       "          Filming Locations    Budget  RelYear  RelMonth  RelDay RelWeekday  \n",
       "0             New York, USA       NaN     2012        10      26     Friday  \n",
       "1                       NaN  $30,000      2017         1      13     Friday  \n",
       "2  Sudbury, Ontario, Canada       NaN     2017        10      21   Saturday  \n",
       "3  Baltimore, Maryland, USA       NaN     2013         4      23    Tuesday  \n",
       "4                       NaN       NaN     2015         4      10     Friday  "
      ]
     },
     "execution_count": 30,
     "metadata": {},
     "output_type": "execute_result"
    }
   ],
   "source": [
    "horrors.head()"
   ]
  },
  {
   "cell_type": "markdown",
   "metadata": {},
   "source": [
    "\n",
    "Now that we have the dates nicely split, we can have some first analysis: let's see how many movies were released in which year:\n"
   ]
  },
  {
   "cell_type": "code",
   "execution_count": 31,
   "metadata": {},
   "outputs": [
    {
     "data": {
      "text/plain": [
       "RelYear\n",
       "2012    345\n",
       "2013    429\n",
       "2014    523\n",
       "2015    602\n",
       "2016    649\n",
       "2017    780\n",
       "dtype: int64"
      ]
     },
     "execution_count": 31,
     "metadata": {},
     "output_type": "execute_result"
    }
   ],
   "source": [
    "horrors.groupby('RelYear').size()"
   ]
  },
  {
   "cell_type": "markdown",
   "metadata": {},
   "source": [
    "\n",
    "It would seem like there's been more and more horror movies released every year.\n"
   ]
  },
  {
   "cell_type": "code",
   "execution_count": 32,
   "metadata": {},
   "outputs": [
    {
     "data": {
      "text/plain": [
       "<BarContainer object of 12 artists>"
      ]
     },
     "execution_count": 32,
     "metadata": {},
     "output_type": "execute_result"
    },
    {
     "data": {
      "image/png": "[encoded data removed]",
      "text/plain": [
       "<Figure size 432x288 with 1 Axes>"
      ]
     },
     "metadata": {
      "needs_background": "light"
     },
     "output_type": "display_data"
    }
   ],
   "source": [
    "plt.bar(range(1,13), height = horrors.groupby('RelMonth').size(), tick_label = range(1,13), color = 'black')"
   ]
  },
  {
   "cell_type": "markdown",
   "metadata": {},
   "source": [
    "\n",
    "October is clearly the month when most of these horror movies are being released, which makes perfect sense given the Halloween. On the other hand we don't want to be scared before X-mas, but then after the old year is gone, the horror makers come back!\n"
   ]
  },
  {
   "cell_type": "markdown",
   "metadata": {},
   "source": [
    "\n",
    "We need a trick to get the release weekdays right, otherwise the days get sorted somehow randomly.\n"
   ]
  },
  {
   "cell_type": "code",
   "execution_count": 33,
   "metadata": {},
   "outputs": [],
   "source": [
    "weekdays = ['Monday', 'Tuesday', 'Wednesday', 'Thursday', 'Friday', 'Saturday', 'Sunday']\n",
    "weekdays_short = ['Mon', 'Tue', 'Wed', 'Thu', 'Fri', 'Sat', 'Sun']"
   ]
  },
  {
   "cell_type": "code",
   "execution_count": 34,
   "metadata": {},
   "outputs": [],
   "source": [
    "horrors['RelWeekday'] = pd.Categorical(horrors['RelWeekday'], categories = weekdays, ordered = True)"
   ]
  },
  {
   "cell_type": "code",
   "execution_count": 35,
   "metadata": {},
   "outputs": [
    {
     "data": {
      "text/plain": [
       "<BarContainer object of 7 artists>"
      ]
     },
     "execution_count": 35,
     "metadata": {},
     "output_type": "execute_result"
    },
    {
     "data": {
      "image/png": "[encoded data removed]",
      "text/plain": [
       "<Figure size 432x288 with 1 Axes>"
      ]
     },
     "metadata": {
      "needs_background": "light"
     },
     "output_type": "display_data"
    }
   ],
   "source": [
    "plt.bar(weekdays_short, height = horrors.groupby('RelWeekday').size(), color = 'purple')"
   ]
  },
  {
   "cell_type": "markdown",
   "metadata": {},
   "source": [
    "\n",
    "Friday is definitely the most popular day to release these movies! Let's see how many are released on Friday, the 13th, and on Halloween.\n"
   ]
  },
  {
   "cell_type": "code",
   "execution_count": 36,
   "metadata": {},
   "outputs": [
    {
     "data": {
      "text/plain": [
       "57"
      ]
     },
     "execution_count": 36,
     "metadata": {},
     "output_type": "execute_result"
    }
   ],
   "source": [
    "horrors[(horrors['RelWeekday']=='Friday')&(horrors['RelDay']==13)]['Title'].size # movies released on Friday, the 13th."
   ]
  },
  {
   "cell_type": "code",
   "execution_count": 37,
   "metadata": {},
   "outputs": [
    {
     "data": {
      "text/plain": [
       "67"
      ]
     },
     "execution_count": 37,
     "metadata": {},
     "output_type": "execute_result"
    }
   ],
   "source": [
    "horrors[(horrors['RelMonth']==10)&(horrors['RelDay']==31)]['Title'].size # movies released on Halloween"
   ]
  },
  {
   "cell_type": "markdown",
   "metadata": {},
   "source": [
    "\n",
    "Now let's look at the 'Genres' column: only one value is missing there\n"
   ]
  },
  {
   "cell_type": "code",
   "execution_count": 38,
   "metadata": {},
   "outputs": [
    {
     "data": {
      "text/html": [
       "<div>\n",
       "<style scoped>\n",
       "    .dataframe tbody tr th:only-of-type {\n",
       "        vertical-align: middle;\n",
       "    }\n",
       "\n",
       "    .dataframe tbody tr th {\n",
       "        vertical-align: top;\n",
       "    }\n",
       "\n",
       "    .dataframe thead th {\n",
       "        text-align: right;\n",
       "    }\n",
       "</style>\n",
       "<table border=\"1\" class=\"dataframe\">\n",
       "  <thead>\n",
       "    <tr style=\"text-align: right;\">\n",
       "      <th></th>\n",
       "      <th>Title</th>\n",
       "      <th>Genres</th>\n",
       "      <th>Release Country</th>\n",
       "      <th>Movie Rating</th>\n",
       "      <th>Review Rating</th>\n",
       "      <th>Movie Run Time</th>\n",
       "      <th>Plot</th>\n",
       "      <th>Cast</th>\n",
       "      <th>Language</th>\n",
       "      <th>Filming Locations</th>\n",
       "      <th>Budget</th>\n",
       "      <th>RelYear</th>\n",
       "      <th>RelMonth</th>\n",
       "      <th>RelDay</th>\n",
       "      <th>RelWeekday</th>\n",
       "    </tr>\n",
       "  </thead>\n",
       "  <tbody>\n",
       "    <tr>\n",
       "      <th>866</th>\n",
       "      <td>The Returned</td>\n",
       "      <td>NaN</td>\n",
       "      <td>USA</td>\n",
       "      <td>NaN</td>\n",
       "      <td>NaN</td>\n",
       "      <td>NaN</td>\n",
       "      <td>A Horror/Thriller about a young couple, strand...</td>\n",
       "      <td>NaN</td>\n",
       "      <td>NaN</td>\n",
       "      <td>NaN</td>\n",
       "      <td>NaN</td>\n",
       "      <td>2017</td>\n",
       "      <td>1</td>\n",
       "      <td>1</td>\n",
       "      <td>Sunday</td>\n",
       "    </tr>\n",
       "  </tbody>\n",
       "</table>\n",
       "</div>"
      ],
      "text/plain": [
       "            Title Genres Release Country Movie Rating  Review Rating  \\\n",
       "866  The Returned    NaN             USA          NaN            NaN   \n",
       "\n",
       "    Movie Run Time                                               Plot Cast  \\\n",
       "866            NaN  A Horror/Thriller about a young couple, strand...  NaN   \n",
       "\n",
       "    Language Filming Locations Budget  RelYear  RelMonth  RelDay RelWeekday  \n",
       "866      NaN               NaN    NaN     2017         1       1     Sunday  "
      ]
     },
     "execution_count": 38,
     "metadata": {},
     "output_type": "execute_result"
    }
   ],
   "source": [
    "horrors[horrors['Genres'].isnull() == True]"
   ]
  },
  {
   "cell_type": "markdown",
   "metadata": {},
   "source": [
    "\n",
    "From the plot description it seems like it's a horror/thriller, so this is how I'm going to fill this empty field:\n"
   ]
  },
  {
   "cell_type": "code",
   "execution_count": 39,
   "metadata": {},
   "outputs": [],
   "source": [
    "horrors.loc[horrors['Genres'].isnull() == True, 'Genres'] = 'Horror| Thriller'"
   ]
  },
  {
   "cell_type": "markdown",
   "metadata": {},
   "source": [
    "\n",
    "Let's look at the info again:\n"
   ]
  },
  {
   "cell_type": "code",
   "execution_count": 41,
   "metadata": {},
   "outputs": [
    {
     "name": "stdout",
     "output_type": "stream",
     "text": [
      "<class 'pandas.core.frame.DataFrame'>\n",
      "RangeIndex: 3328 entries, 0 to 3327\n",
      "Data columns (total 15 columns):\n",
      "Title                3328 non-null object\n",
      "Genres               3328 non-null object\n",
      "Release Country      3328 non-null object\n",
      "Movie Rating         1451 non-null object\n",
      "Review Rating        3076 non-null float64\n",
      "Movie Run Time       2784 non-null object\n",
      "Plot                 3327 non-null object\n",
      "Cast                 3314 non-null object\n",
      "Language             3257 non-null object\n",
      "Filming Locations    2096 non-null object\n",
      "Budget               1234 non-null object\n",
      "RelYear              3328 non-null int64\n",
      "RelMonth             3328 non-null int64\n",
      "RelDay               3328 non-null int64\n",
      "RelWeekday           3328 non-null category\n",
      "dtypes: category(1), float64(1), int64(3), object(10)\n",
      "memory usage: 367.7+ KB\n"
     ]
    }
   ],
   "source": [
    "horrors.info()"
   ]
  },
  {
   "cell_type": "markdown",
   "metadata": {},
   "source": [
    "\n",
    "There's a lot of info missing in the Movie Rating column, but as there seems to be no way to estimate how these movies were rated in various countries, I'm just going to leave it as is.\n",
    "On the other hand the Review Rating, which is how the movie is rated by IMDB users, has only a few percent of the values missing. We can fill these NaNs with the median of all ratings, which is 5.0. \n"
   ]
  },
  {
   "cell_type": "code",
   "execution_count": 45,
   "metadata": {},
   "outputs": [
    {
     "data": {
      "text/plain": [
       "5.0"
      ]
     },
     "execution_count": 45,
     "metadata": {},
     "output_type": "execute_result"
    }
   ],
   "source": [
    "horrors['Review Rating'].median()"
   ]
  },
  {
   "cell_type": "code",
   "execution_count": 46,
   "metadata": {},
   "outputs": [],
   "source": [
    "horrors['Review Rating'] = horrors['Review Rating'].fillna(horrors['Review Rating'].median())"
   ]
  },
  {
   "cell_type": "markdown",
   "metadata": {},
   "source": [
    "\n",
    "Let's see if the movies are getting any better, as there is more and more of them:\n"
   ]
  },
  {
   "cell_type": "code",
   "execution_count": 47,
   "metadata": {},
   "outputs": [
    {
     "data": {
      "text/plain": [
       "RelYear\n",
       "2012    4.739420\n",
       "2013    4.851515\n",
       "2014    4.921033\n",
       "2015    4.967608\n",
       "2016    5.187211\n",
       "2017    5.422821\n",
       "Name: Review Rating, dtype: float64"
      ]
     },
     "execution_count": 47,
     "metadata": {},
     "output_type": "execute_result"
    }
   ],
   "source": [
    "horrors.groupby('RelYear')['Review Rating'].mean()"
   ]
  },
  {
   "cell_type": "code",
   "execution_count": null,
   "metadata": {},
   "outputs": [],
   "source": [
    "\n",
    "It would seems so, looking at the mean, but...\n"
   ]
  },
  {
   "cell_type": "code",
   "execution_count": 48,
   "metadata": {},
   "outputs": [
    {
     "data": {
      "text/plain": [
       "RelYear\n",
       "2012    4.8\n",
       "2013    4.8\n",
       "2014    4.9\n",
       "2015    5.0\n",
       "2016    5.1\n",
       "2017    5.0\n",
       "Name: Review Rating, dtype: float64"
      ]
     },
     "execution_count": 48,
     "metadata": {},
     "output_type": "execute_result"
    }
   ],
   "source": [
    "horrors.groupby('RelYear')['Review Rating'].median()"
   ]
  },
  {
   "cell_type": "markdown",
   "metadata": {},
   "source": [
    "\n",
    "There's something else going on, let's see:\n"
   ]
  },
  {
   "cell_type": "code",
   "execution_count": 49,
   "metadata": {},
   "outputs": [
    {
     "data": {
      "text/plain": [
       "<matplotlib.axes._subplots.AxesSubplot at 0x2471dd695f8>"
      ]
     },
     "execution_count": 49,
     "metadata": {},
     "output_type": "execute_result"
    },
    {
     "data": {
      "image/png": "[encoded data removed]",
      "text/plain": [
       "<Figure size 720x576 with 1 Axes>"
      ]
     },
     "metadata": {
      "needs_background": "light"
     },
     "output_type": "display_data"
    }
   ],
   "source": [
    "fig, ax = plt.subplots(figsize=(10,8))\n",
    "horrors.boxplot(column = ['Review Rating'], by = 'RelYear', ax = ax)"
   ]
  },
  {
   "cell_type": "markdown",
   "metadata": {},
   "source": [
    "\n",
    "So the median is pretty stable, but the mean keeps growing. \n"
   ]
  },
  {
   "cell_type": "code",
   "execution_count": 50,
   "metadata": {},
   "outputs": [
    {
     "name": "stdout",
     "output_type": "stream",
     "text": [
      "2012 1.5 8.9\n",
      "2013 1.4 8.8\n",
      "2014 1.9 9.0\n",
      "2015 1.3 9.3\n",
      "2016 1.2 9.3\n",
      "2017 1.0 9.8\n"
     ]
    }
   ],
   "source": [
    "for year in range (2012, 2018):\n",
    "    print(year, min(horrors.loc[horrors['RelYear']==year, 'Review Rating']), max(horrors.loc[horrors['RelYear']==year, 'Review Rating']))"
   ]
  },
  {
   "cell_type": "markdown",
   "metadata": {},
   "source": [
    "\n",
    "We could say that with the increasing number of movies comes higher spread of review ratings' values. There must have been some very highly rated movies in 2017 to push the mean higher. \n"
   ]
  },
  {
   "cell_type": "code",
   "execution_count": 51,
   "metadata": {},
   "outputs": [
    {
     "data": {
      "text/plain": [
       "120"
      ]
     },
     "execution_count": 51,
     "metadata": {},
     "output_type": "execute_result"
    }
   ],
   "source": [
    "horrors[horrors['Review Rating']>9.3].size"
   ]
  },
  {
   "cell_type": "markdown",
   "metadata": {},
   "source": [
    "\n",
    "In 2017 there were in fact 120 movies rated higher than the maximum review rating from the year before! On the other hand...\n"
   ]
  },
  {
   "cell_type": "code",
   "execution_count": 52,
   "metadata": {},
   "outputs": [
    {
     "data": {
      "text/plain": [
       "30"
      ]
     },
     "execution_count": 52,
     "metadata": {},
     "output_type": "execute_result"
    }
   ],
   "source": [
    "horrors[(horrors['Review Rating']<1.2)&(horrors['RelYear']==2017)].size"
   ]
  },
  {
   "cell_type": "markdown",
   "metadata": {},
   "source": [
    "...there were also 30 movies rated lower than the worst of the previous year! More horrors, more extremes. "
   ]
  },
  {
   "cell_type": "markdown",
   "metadata": {},
   "source": [
    "\n",
    "Now off to the next column, Movie Run Time. There's actually a lot of info missing here, roughly 17%. Let's begin with extracting the actual time from what's available. We just need to get all the digits, and then convert them to integers.\n"
   ]
  },
  {
   "cell_type": "code",
   "execution_count": 53,
   "metadata": {},
   "outputs": [],
   "source": [
    "horrors['Minutes'] = horrors['Movie Run Time'].str.extract('(\\d+)', expand = True)"
   ]
  },
  {
   "cell_type": "code",
   "execution_count": 54,
   "metadata": {},
   "outputs": [
    {
     "name": "stdout",
     "output_type": "stream",
     "text": [
      "<class 'pandas.core.frame.DataFrame'>\n",
      "RangeIndex: 3328 entries, 0 to 3327\n",
      "Data columns (total 16 columns):\n",
      "Title                3328 non-null object\n",
      "Genres               3328 non-null object\n",
      "Release Country      3328 non-null object\n",
      "Movie Rating         1451 non-null object\n",
      "Review Rating        3328 non-null float64\n",
      "Movie Run Time       2784 non-null object\n",
      "Plot                 3327 non-null object\n",
      "Cast                 3314 non-null object\n",
      "Language             3257 non-null object\n",
      "Filming Locations    2096 non-null object\n",
      "Budget               1234 non-null object\n",
      "RelYear              3328 non-null int64\n",
      "RelMonth             3328 non-null int64\n",
      "RelDay               3328 non-null int64\n",
      "RelWeekday           3328 non-null category\n",
      "Minutes              2784 non-null object\n",
      "dtypes: category(1), float64(1), int64(3), object(11)\n",
      "memory usage: 393.7+ KB\n"
     ]
    }
   ],
   "source": [
    "horrors.info()"
   ]
  },
  {
   "cell_type": "code",
   "execution_count": 55,
   "metadata": {},
   "outputs": [],
   "source": [
    "horrors['Minutes'] = horrors.loc[horrors['Minutes'].notnull(), 'Minutes'].astype('int')"
   ]
  },
  {
   "cell_type": "code",
   "execution_count": 56,
   "metadata": {},
   "outputs": [
    {
     "name": "stdout",
     "output_type": "stream",
     "text": [
      "<class 'pandas.core.frame.DataFrame'>\n",
      "RangeIndex: 3328 entries, 0 to 3327\n",
      "Data columns (total 16 columns):\n",
      "Title                3328 non-null object\n",
      "Genres               3328 non-null object\n",
      "Release Country      3328 non-null object\n",
      "Movie Rating         1451 non-null object\n",
      "Review Rating        3328 non-null float64\n",
      "Movie Run Time       2784 non-null object\n",
      "Plot                 3327 non-null object\n",
      "Cast                 3314 non-null object\n",
      "Language             3257 non-null object\n",
      "Filming Locations    2096 non-null object\n",
      "Budget               1234 non-null object\n",
      "RelYear              3328 non-null int64\n",
      "RelMonth             3328 non-null int64\n",
      "RelDay               3328 non-null int64\n",
      "RelWeekday           3328 non-null category\n",
      "Minutes              2784 non-null float64\n",
      "dtypes: category(1), float64(2), int64(3), object(10)\n",
      "memory usage: 393.7+ KB\n"
     ]
    }
   ],
   "source": [
    "horrors.info()"
   ]
  },
  {
   "cell_type": "markdown",
   "metadata": {},
   "source": [
    "\n",
    "There's roughly 17% of values missing in the 'Movie Run Time'. Let's see if it would make sense to fill them with some averaged value:\n"
   ]
  },
  {
   "cell_type": "code",
   "execution_count": 57,
   "metadata": {},
   "outputs": [
    {
     "data": {
      "text/plain": [
       "90.0"
      ]
     },
     "execution_count": 57,
     "metadata": {},
     "output_type": "execute_result"
    }
   ],
   "source": [
    "horrors['Minutes'].median()"
   ]
  },
  {
   "cell_type": "code",
   "execution_count": 58,
   "metadata": {},
   "outputs": [
    {
     "data": {
      "text/plain": [
       "90.92420977011494"
      ]
     },
     "execution_count": 58,
     "metadata": {},
     "output_type": "execute_result"
    }
   ],
   "source": [
    "horrors['Minutes'].mean()"
   ]
  },
  {
   "cell_type": "code",
   "execution_count": 59,
   "metadata": {},
   "outputs": [
    {
     "data": {
      "text/plain": [
       "RelYear\n",
       "2012    89.0\n",
       "2013    89.0\n",
       "2014    90.0\n",
       "2015    90.0\n",
       "2016    89.0\n",
       "2017    90.0\n",
       "Name: Minutes, dtype: float64"
      ]
     },
     "execution_count": 59,
     "metadata": {},
     "output_type": "execute_result"
    }
   ],
   "source": [
    "horrors.groupby('RelYear')['Minutes'].median()"
   ]
  },
  {
   "cell_type": "code",
   "execution_count": 60,
   "metadata": {},
   "outputs": [
    {
     "data": {
      "text/plain": [
       "RelYear\n",
       "2012    90.528814\n",
       "2013    90.438287\n",
       "2014    91.154013\n",
       "2015    90.822430\n",
       "2016    91.762250\n",
       "2017    90.550459\n",
       "Name: Minutes, dtype: float64"
      ]
     },
     "execution_count": 60,
     "metadata": {},
     "output_type": "execute_result"
    }
   ],
   "source": [
    "horrors.groupby('RelYear')['Minutes'].mean()"
   ]
  },
  {
   "cell_type": "markdown",
   "metadata": {},
   "source": [
    "\n",
    "Looks like 90 minutes really is a standard run time for a movie (it was like that back in the VHS days, you could fit two average movies on a 180 minutes tape! :) I'm going to replace the NaNs with the median:\n"
   ]
  },
  {
   "cell_type": "code",
   "execution_count": 61,
   "metadata": {},
   "outputs": [],
   "source": [
    "horrors['Minutes'] = horrors['Minutes'].fillna(horrors['Minutes'].median())"
   ]
  },
  {
   "cell_type": "markdown",
   "metadata": {},
   "source": [
    "\n",
    "Now I can drop the original 'Movie Run Time' column:\n"
   ]
  },
  {
   "cell_type": "code",
   "execution_count": 62,
   "metadata": {},
   "outputs": [],
   "source": [
    "horrors = horrors.drop('Movie Run Time', axis = 1)"
   ]
  },
  {
   "cell_type": "code",
   "execution_count": 63,
   "metadata": {},
   "outputs": [
    {
     "name": "stdout",
     "output_type": "stream",
     "text": [
      "<class 'pandas.core.frame.DataFrame'>\n",
      "RangeIndex: 3328 entries, 0 to 3327\n",
      "Data columns (total 15 columns):\n",
      "Title                3328 non-null object\n",
      "Genres               3328 non-null object\n",
      "Release Country      3328 non-null object\n",
      "Movie Rating         1451 non-null object\n",
      "Review Rating        3328 non-null float64\n",
      "Plot                 3327 non-null object\n",
      "Cast                 3314 non-null object\n",
      "Language             3257 non-null object\n",
      "Filming Locations    2096 non-null object\n",
      "Budget               1234 non-null object\n",
      "RelYear              3328 non-null int64\n",
      "RelMonth             3328 non-null int64\n",
      "RelDay               3328 non-null int64\n",
      "RelWeekday           3328 non-null category\n",
      "Minutes              3328 non-null float64\n",
      "dtypes: category(1), float64(2), int64(3), object(9)\n",
      "memory usage: 367.7+ KB\n"
     ]
    }
   ],
   "source": [
    "horrors.info()"
   ]
  },
  {
   "cell_type": "markdown",
   "metadata": {},
   "source": [
    "\n",
    "Back to the 'Genres' column: it seems like almost every movie on this list is classified as more than one genre. After some experimenting I came up with a function which does the one-hot encoding, creating a column for each genre and then filling it with 1 when a given movie is classified as that genre: later I just need to fill the resulting NaNs with zeros. To do that we need to import RegEx.\n"
   ]
  },
  {
   "cell_type": "code",
   "execution_count": 64,
   "metadata": {},
   "outputs": [],
   "source": [
    "import re"
   ]
  },
  {
   "cell_type": "code",
   "execution_count": 65,
   "metadata": {},
   "outputs": [],
   "source": [
    "def splitter(dataframe, column):\n",
    "    '''extracts single words (genres) in each row, returns 1 in a column corresponding to the found genre'''\n",
    "    for row in dataframe.index:\n",
    "        for word in re.findall('\\w+', dataframe.loc[row, column]):\n",
    "            dataframe.loc[row, word] = 1\n",
    "    return dataframe"
   ]
  },
  {
   "cell_type": "code",
   "execution_count": 66,
   "metadata": {},
   "outputs": [],
   "source": [
    "horrors = splitter(horrors, 'Genres')"
   ]
  },
  {
   "cell_type": "code",
   "execution_count": 67,
   "metadata": {},
   "outputs": [
    {
     "name": "stdout",
     "output_type": "stream",
     "text": [
      "<class 'pandas.core.frame.DataFrame'>\n",
      "RangeIndex: 3328 entries, 0 to 3327\n",
      "Data columns (total 39 columns):\n",
      "Title                3328 non-null object\n",
      "Genres               3328 non-null object\n",
      "Release Country      3328 non-null object\n",
      "Movie Rating         1451 non-null object\n",
      "Review Rating        3328 non-null float64\n",
      "Plot                 3327 non-null object\n",
      "Cast                 3314 non-null object\n",
      "Language             3257 non-null object\n",
      "Filming Locations    2096 non-null object\n",
      "Budget               1234 non-null object\n",
      "RelYear              3328 non-null int64\n",
      "RelMonth             3328 non-null int64\n",
      "RelDay               3328 non-null int64\n",
      "RelWeekday           3328 non-null category\n",
      "Minutes              3328 non-null float64\n",
      "Drama                531 non-null float64\n",
      "Horror               3328 non-null float64\n",
      "Thriller             1379 non-null float64\n",
      "Comedy               513 non-null float64\n",
      "Crime                121 non-null float64\n",
      "Action               336 non-null float64\n",
      "Sci                  309 non-null float64\n",
      "Fi                   309 non-null float64\n",
      "Mystery              453 non-null float64\n",
      "Adventure            116 non-null float64\n",
      "Fantasy              229 non-null float64\n",
      "Romance              99 non-null float64\n",
      "War                  14 non-null float64\n",
      "Western              15 non-null float64\n",
      "Sport                4 non-null float64\n",
      "Animation            39 non-null float64\n",
      "History              6 non-null float64\n",
      "Musical              13 non-null float64\n",
      "Music                5 non-null float64\n",
      "Family               11 non-null float64\n",
      "Biography            4 non-null float64\n",
      "Adult                1 non-null float64\n",
      "Reality              1 non-null float64\n",
      "TV                   1 non-null float64\n",
      "dtypes: category(1), float64(26), int64(3), object(9)\n",
      "memory usage: 991.7+ KB\n"
     ]
    }
   ],
   "source": [
    "horrors.info()"
   ]
  },
  {
   "cell_type": "markdown",
   "metadata": {},
   "source": [
    "\n",
    "Two problems: lots of NaNs, and 'Sci Fi' was interpreted as two separate words, creating two columns. I will simply copy one of the two columns as 'SciFi' and then drop the other two.\n"
   ]
  },
  {
   "cell_type": "code",
   "execution_count": 68,
   "metadata": {},
   "outputs": [],
   "source": [
    "horrors['SciFi'] = horrors['Sci']"
   ]
  },
  {
   "cell_type": "code",
   "execution_count": 69,
   "metadata": {},
   "outputs": [],
   "source": [
    "horrors = horrors.drop(['Sci', 'Fi'], axis = 1)"
   ]
  },
  {
   "cell_type": "code",
   "execution_count": 70,
   "metadata": {},
   "outputs": [
    {
     "data": {
      "text/plain": [
       "Index(['Title', 'Genres', 'Release Country', 'Movie Rating', 'Review Rating',\n",
       "       'Plot', 'Cast', 'Language', 'Filming Locations', 'Budget', 'RelYear',\n",
       "       'RelMonth', 'RelDay', 'RelWeekday', 'Minutes', 'Drama', 'Horror',\n",
       "       'Thriller', 'Comedy', 'Crime', 'Action', 'Mystery', 'Adventure',\n",
       "       'Fantasy', 'Romance', 'War', 'Western', 'Sport', 'Animation', 'History',\n",
       "       'Musical', 'Music', 'Family', 'Biography', 'Adult', 'Reality', 'TV',\n",
       "       'SciFi'],\n",
       "      dtype='object')"
      ]
     },
     "execution_count": 70,
     "metadata": {},
     "output_type": "execute_result"
    }
   ],
   "source": [
    "horrors.columns"
   ]
  },
  {
   "cell_type": "code",
   "execution_count": 71,
   "metadata": {},
   "outputs": [],
   "source": [
    "horrors.loc[:,'Drama':'SciFi'] = horrors.loc[:,'Drama':'SciFi'].fillna(0)"
   ]
  },
  {
   "cell_type": "code",
   "execution_count": 72,
   "metadata": {},
   "outputs": [
    {
     "name": "stdout",
     "output_type": "stream",
     "text": [
      "<class 'pandas.core.frame.DataFrame'>\n",
      "RangeIndex: 3328 entries, 0 to 3327\n",
      "Data columns (total 38 columns):\n",
      "Title                3328 non-null object\n",
      "Genres               3328 non-null object\n",
      "Release Country      3328 non-null object\n",
      "Movie Rating         1451 non-null object\n",
      "Review Rating        3328 non-null float64\n",
      "Plot                 3327 non-null object\n",
      "Cast                 3314 non-null object\n",
      "Language             3257 non-null object\n",
      "Filming Locations    2096 non-null object\n",
      "Budget               1234 non-null object\n",
      "RelYear              3328 non-null int64\n",
      "RelMonth             3328 non-null int64\n",
      "RelDay               3328 non-null int64\n",
      "RelWeekday           3328 non-null category\n",
      "Minutes              3328 non-null float64\n",
      "Drama                3328 non-null float64\n",
      "Horror               3328 non-null float64\n",
      "Thriller             3328 non-null float64\n",
      "Comedy               3328 non-null float64\n",
      "Crime                3328 non-null float64\n",
      "Action               3328 non-null float64\n",
      "Mystery              3328 non-null float64\n",
      "Adventure            3328 non-null float64\n",
      "Fantasy              3328 non-null float64\n",
      "Romance              3328 non-null float64\n",
      "War                  3328 non-null float64\n",
      "Western              3328 non-null float64\n",
      "Sport                3328 non-null float64\n",
      "Animation            3328 non-null float64\n",
      "History              3328 non-null float64\n",
      "Musical              3328 non-null float64\n",
      "Music                3328 non-null float64\n",
      "Family               3328 non-null float64\n",
      "Biography            3328 non-null float64\n",
      "Adult                3328 non-null float64\n",
      "Reality              3328 non-null float64\n",
      "TV                   3328 non-null float64\n",
      "SciFi                3328 non-null float64\n",
      "dtypes: category(1), float64(25), int64(3), object(9)\n",
      "memory usage: 965.7+ KB\n"
     ]
    }
   ],
   "source": [
    "horrors.info()"
   ]
  },
  {
   "cell_type": "markdown",
   "metadata": {},
   "source": [
    "\n",
    "As said at the beginning, there is some interesting info in the 'Plot' column. It seems to be always starting with \"Directed by \". Using RegEx, we can extract the names that come after those words, but before the end of the first sentence (or actually before the beginning of the second one, which always start with \"With \":\n"
   ]
  },
  {
   "cell_type": "code",
   "execution_count": 73,
   "metadata": {},
   "outputs": [],
   "source": [
    "pattern = '(?<=by\\s)(.*?)(?:. With)' #non-greedy, any number of characters, preceded by the string \"by \", followed by \". With\"\n",
    "\n",
    "horrors['Director'] = horrors['Plot'].str.extract(pattern, expand = True)"
   ]
  },
  {
   "cell_type": "markdown",
   "metadata": {},
   "source": [
    "\n",
    "Another operation on string is splitting the cast into single actors. There are too many to do the one-hot encoding, but we can convert the strings to lists of names, using the fact that they're always separated by the same symbol.\n"
   ]
  },
  {
   "cell_type": "code",
   "execution_count": 74,
   "metadata": {},
   "outputs": [],
   "source": [
    "horrors['Cast'] = horrors['Cast'].str.split('(?:[|])')"
   ]
  },
  {
   "cell_type": "code",
   "execution_count": 75,
   "metadata": {},
   "outputs": [
    {
     "data": {
      "text/html": [
       "<div>\n",
       "<style scoped>\n",
       "    .dataframe tbody tr th:only-of-type {\n",
       "        vertical-align: middle;\n",
       "    }\n",
       "\n",
       "    .dataframe tbody tr th {\n",
       "        vertical-align: top;\n",
       "    }\n",
       "\n",
       "    .dataframe thead th {\n",
       "        text-align: right;\n",
       "    }\n",
       "</style>\n",
       "<table border=\"1\" class=\"dataframe\">\n",
       "  <thead>\n",
       "    <tr style=\"text-align: right;\">\n",
       "      <th></th>\n",
       "      <th>Title</th>\n",
       "      <th>Genres</th>\n",
       "      <th>Release Country</th>\n",
       "      <th>Movie Rating</th>\n",
       "      <th>Review Rating</th>\n",
       "      <th>Plot</th>\n",
       "      <th>Cast</th>\n",
       "      <th>Language</th>\n",
       "      <th>Filming Locations</th>\n",
       "      <th>Budget</th>\n",
       "      <th>...</th>\n",
       "      <th>History</th>\n",
       "      <th>Musical</th>\n",
       "      <th>Music</th>\n",
       "      <th>Family</th>\n",
       "      <th>Biography</th>\n",
       "      <th>Adult</th>\n",
       "      <th>Reality</th>\n",
       "      <th>TV</th>\n",
       "      <th>SciFi</th>\n",
       "      <th>Director</th>\n",
       "    </tr>\n",
       "  </thead>\n",
       "  <tbody>\n",
       "    <tr>\n",
       "      <th>411</th>\n",
       "      <td>Abduction</td>\n",
       "      <td>Action| Comedy| Drama| Fantasy| Horror| Sci-F...</td>\n",
       "      <td>USA</td>\n",
       "      <td>NaN</td>\n",
       "      <td>3.1</td>\n",
       "      <td>Directed by Maurice Smith, Mol Smith. With Kar...</td>\n",
       "      <td>[Karolina Antosik, Tessa McGinn, Kemal Yildiri...</td>\n",
       "      <td>English|English</td>\n",
       "      <td>England, UK</td>\n",
       "      <td>£43,000</td>\n",
       "      <td>...</td>\n",
       "      <td>0.0</td>\n",
       "      <td>0.0</td>\n",
       "      <td>0.0</td>\n",
       "      <td>0.0</td>\n",
       "      <td>0.0</td>\n",
       "      <td>0.0</td>\n",
       "      <td>0.0</td>\n",
       "      <td>0.0</td>\n",
       "      <td>1.0</td>\n",
       "      <td>Maurice Smith, Mol Smith</td>\n",
       "    </tr>\n",
       "    <tr>\n",
       "      <th>1665</th>\n",
       "      <td>60 Seconds to Die</td>\n",
       "      <td>Horror</td>\n",
       "      <td>USA</td>\n",
       "      <td>NaN</td>\n",
       "      <td>6.8</td>\n",
       "      <td>Directed by Eric Alfonsi, James Balsamo, David...</td>\n",
       "      <td>[Jane Ackermann, Lia Alvarez, Siff Andersson, ...</td>\n",
       "      <td>English|Spanish</td>\n",
       "      <td>Flint, Michigan, USA</td>\n",
       "      <td>NaN</td>\n",
       "      <td>...</td>\n",
       "      <td>0.0</td>\n",
       "      <td>0.0</td>\n",
       "      <td>0.0</td>\n",
       "      <td>0.0</td>\n",
       "      <td>0.0</td>\n",
       "      <td>0.0</td>\n",
       "      <td>0.0</td>\n",
       "      <td>0.0</td>\n",
       "      <td>0.0</td>\n",
       "      <td>Eric Alfonsi, James Balsamo, David Bryant</td>\n",
       "    </tr>\n",
       "    <tr>\n",
       "      <th>181</th>\n",
       "      <td>Scream for Summer</td>\n",
       "      <td>Horror</td>\n",
       "      <td>USA</td>\n",
       "      <td>NaN</td>\n",
       "      <td>5.0</td>\n",
       "      <td>Directed by Cheyenne Gordon. With Mary Watters...</td>\n",
       "      <td>[Mary Watters, Tyler Riley, Alicia M. Clark, C...</td>\n",
       "      <td>English</td>\n",
       "      <td>NaN</td>\n",
       "      <td>NaN</td>\n",
       "      <td>...</td>\n",
       "      <td>0.0</td>\n",
       "      <td>0.0</td>\n",
       "      <td>0.0</td>\n",
       "      <td>0.0</td>\n",
       "      <td>0.0</td>\n",
       "      <td>0.0</td>\n",
       "      <td>0.0</td>\n",
       "      <td>0.0</td>\n",
       "      <td>0.0</td>\n",
       "      <td>Cheyenne Gordon</td>\n",
       "    </tr>\n",
       "  </tbody>\n",
       "</table>\n",
       "<p>3 rows × 39 columns</p>\n",
       "</div>"
      ],
      "text/plain": [
       "                  Title                                             Genres  \\\n",
       "411           Abduction   Action| Comedy| Drama| Fantasy| Horror| Sci-F...   \n",
       "1665  60 Seconds to Die                                             Horror   \n",
       "181   Scream for Summer                                             Horror   \n",
       "\n",
       "     Release Country Movie Rating  Review Rating  \\\n",
       "411              USA          NaN            3.1   \n",
       "1665             USA          NaN            6.8   \n",
       "181              USA          NaN            5.0   \n",
       "\n",
       "                                                   Plot  \\\n",
       "411   Directed by Maurice Smith, Mol Smith. With Kar...   \n",
       "1665  Directed by Eric Alfonsi, James Balsamo, David...   \n",
       "181   Directed by Cheyenne Gordon. With Mary Watters...   \n",
       "\n",
       "                                                   Cast         Language  \\\n",
       "411   [Karolina Antosik, Tessa McGinn, Kemal Yildiri...  English|English   \n",
       "1665  [Jane Ackermann, Lia Alvarez, Siff Andersson, ...  English|Spanish   \n",
       "181   [Mary Watters, Tyler Riley, Alicia M. Clark, C...          English   \n",
       "\n",
       "         Filming Locations       Budget  \\\n",
       "411            England, UK    £43,000     \n",
       "1665  Flint, Michigan, USA          NaN   \n",
       "181                    NaN          NaN   \n",
       "\n",
       "                        ...                      History  Musical  Music  \\\n",
       "411                     ...                          0.0      0.0    0.0   \n",
       "1665                    ...                          0.0      0.0    0.0   \n",
       "181                     ...                          0.0      0.0    0.0   \n",
       "\n",
       "     Family  Biography  Adult  Reality   TV  SciFi  \\\n",
       "411     0.0        0.0    0.0      0.0  0.0    1.0   \n",
       "1665    0.0        0.0    0.0      0.0  0.0    0.0   \n",
       "181     0.0        0.0    0.0      0.0  0.0    0.0   \n",
       "\n",
       "                                       Director  \n",
       "411                    Maurice Smith, Mol Smith  \n",
       "1665  Eric Alfonsi, James Balsamo, David Bryant  \n",
       "181                             Cheyenne Gordon  \n",
       "\n",
       "[3 rows x 39 columns]"
      ]
     },
     "execution_count": 75,
     "metadata": {},
     "output_type": "execute_result"
    }
   ],
   "source": [
    "horrors.sample(3)"
   ]
  },
  {
   "cell_type": "markdown",
   "metadata": {},
   "source": [
    "\n",
    "Now that all the casts are lists, we can simply add them together...\n"
   ]
  },
  {
   "cell_type": "code",
   "execution_count": 76,
   "metadata": {},
   "outputs": [],
   "source": [
    "actors = horrors[horrors['Cast'].notnull()]['Cast'].sum() #NaNs must be filtered out for this to work"
   ]
  },
  {
   "cell_type": "code",
   "execution_count": null,
   "metadata": {},
   "outputs": [],
   "source": [
    "\n",
    "...and see who appears frequently in these movies:\n"
   ]
  },
  {
   "cell_type": "code",
   "execution_count": 77,
   "metadata": {},
   "outputs": [],
   "source": [
    "actors_freq = {name:actors.count(name) for name in actors}"
   ]
  },
  {
   "cell_type": "code",
   "execution_count": 78,
   "metadata": {},
   "outputs": [
    {
     "data": {
      "text/plain": [
       "29"
      ]
     },
     "execution_count": 78,
     "metadata": {},
     "output_type": "execute_result"
    }
   ],
   "source": [
    "max(actors_freq.values())"
   ]
  },
  {
   "cell_type": "markdown",
   "metadata": {},
   "source": [
    "\n",
    "Looks like someone starred in 29 of our movies!\n"
   ]
  },
  {
   "cell_type": "code",
   "execution_count": 79,
   "metadata": {},
   "outputs": [
    {
     "data": {
      "text/plain": [
       "{'Brinke Stevens': 18,\n",
       " 'Shawn C. Phillips': 14,\n",
       " 'Suzi Lorraine': 16,\n",
       " 'Bill Oberst Jr.': 18,\n",
       " 'Felissa Rose': 14,\n",
       " 'Lloyd Kaufman': 29,\n",
       " 'Kane Hodder': 16,\n",
       " 'Bill Moseley': 18,\n",
       " 'Eric Roberts': 28,\n",
       " 'Tiffany Shepis': 15,\n",
       " 'Lynn Lowry': 12,\n",
       " 'Lee Bane': 13,\n",
       " 'Debbie Rochon': 23,\n",
       " 'Linnea Quigley': 13,\n",
       " 'Jessica Cameron': 13,\n",
       " 'Maria Olsen': 21,\n",
       " 'Mindy Robinson': 15,\n",
       " 'Ron Jeremy': 13,\n",
       " 'Tony Todd': 14,\n",
       " 'Elissa Dowling': 17,\n",
       " 'Lance Henriksen': 15,\n",
       " 'Doug Jones': 12,\n",
       " 'Ray Wise': 12,\n",
       " 'Larry Fessenden': 15}"
      ]
     },
     "execution_count": 79,
     "metadata": {},
     "output_type": "execute_result"
    }
   ],
   "source": [
    "{name:actors_freq[name] for name in actors_freq.keys() if actors_freq[name] >= 12} "
   ]
  },
  {
   "cell_type": "markdown",
   "metadata": {},
   "source": [
    "\n",
    "I filtered by >=12, which means 2 movies each year, on average. I can use this to do some one-hot encoding of these most popular actors.\n"
   ]
  },
  {
   "cell_type": "markdown",
   "metadata": {},
   "source": [
    "Here's a function (pretty slow, and I hope I can find a way to make it faster) that sets a True/False flag in a dedicated column, to later filter the movies where these actors appear:"
   ]
  },
  {
   "cell_type": "code",
   "execution_count": 85,
   "metadata": {},
   "outputs": [],
   "source": [
    "def actorfinder(item, name):\n",
    "    if name in item:\n",
    "        answer = 1\n",
    "    else:\n",
    "        answer = 0\n",
    "    return answer"
   ]
  },
  {
   "cell_type": "code",
   "execution_count": 86,
   "metadata": {},
   "outputs": [],
   "source": [
    "top_stars = [name for name in actors_freq.keys() if actors_freq[name] >= 12 ]"
   ]
  },
  {
   "cell_type": "code",
   "execution_count": 87,
   "metadata": {},
   "outputs": [],
   "source": [
    "for name in top_stars:\n",
    "    horrors[name] = horrors[horrors['Cast'].notnull()].apply(lambda x: pd.Series(actorfinder(x['Cast'], name)), axis = 1)"
   ]
  },
  {
   "cell_type": "markdown",
   "metadata": {},
   "source": [
    "\n",
    "Lloyd Kaufman and Eric Roberts are the most frequently appearing in our list.\n"
   ]
  },
  {
   "cell_type": "code",
   "execution_count": 137,
   "metadata": {},
   "outputs": [
    {
     "data": {
      "text/plain": [
       "5.5"
      ]
     },
     "execution_count": 137,
     "metadata": {},
     "output_type": "execute_result"
    }
   ],
   "source": [
    "horrors[horrors['Lloyd Kaufman']==1]['Review Rating'].median()"
   ]
  },
  {
   "cell_type": "code",
   "execution_count": 138,
   "metadata": {},
   "outputs": [
    {
     "data": {
      "text/plain": [
       "5.0"
      ]
     },
     "execution_count": 138,
     "metadata": {},
     "output_type": "execute_result"
    }
   ],
   "source": [
    "horrors['Review Rating'].median()"
   ]
  },
  {
   "cell_type": "markdown",
   "metadata": {},
   "source": [
    "\n",
    "No wonder Lloyd Kaufman appears in so many movies: his presence guarantees it's gonna be good.. or it's the other way round, he chooses wisely the movies to star in. One way or the other, the movies with Lloyd Kaufman have ratings 10% above the global median.\n"
   ]
  },
  {
   "cell_type": "code",
   "execution_count": 139,
   "metadata": {},
   "outputs": [
    {
     "data": {
      "text/plain": [
       "3.5"
      ]
     },
     "execution_count": 139,
     "metadata": {},
     "output_type": "execute_result"
    }
   ],
   "source": [
    "horrors[horrors['Eric Roberts']==1]['Review Rating'].median()"
   ]
  },
  {
   "cell_type": "markdown",
   "metadata": {},
   "source": [
    "\n",
    "We can't say the same about Eric Roberts, though.\n"
   ]
  },
  {
   "cell_type": "markdown",
   "metadata": {},
   "source": [
    "\n",
    "Now that I have these most popular actors one-hot encoded, it's enough to sum the columns to find the movies where more than one of them appears.\n"
   ]
  },
  {
   "cell_type": "code",
   "execution_count": 114,
   "metadata": {},
   "outputs": [
    {
     "data": {
      "text/plain": [
       "Index(['Title', 'Genres', 'Release Country', 'Movie Rating', 'Review Rating',\n",
       "       'Plot', 'Cast', 'Language', 'Filming Locations', 'Budget', 'RelYear',\n",
       "       'RelMonth', 'RelDay', 'RelWeekday', 'Minutes', 'Drama', 'Horror',\n",
       "       'Thriller', 'Comedy', 'Crime', 'Action', 'Mystery', 'Adventure',\n",
       "       'Fantasy', 'Romance', 'War', 'Western', 'Sport', 'Animation', 'History',\n",
       "       'Musical', 'Music', 'Family', 'Biography', 'Adult', 'Reality', 'TV',\n",
       "       'SciFi', 'Director', 'Brinke Stevens', 'Shawn C. Phillips',\n",
       "       'Suzi Lorraine', 'Bill Oberst Jr.', 'Felissa Rose', 'Lloyd Kaufman',\n",
       "       'Kane Hodder', 'Bill Moseley', 'Eric Roberts', 'Tiffany Shepis',\n",
       "       'Lynn Lowry', 'Lee Bane', 'Debbie Rochon', 'Linnea Quigley',\n",
       "       'Jessica Cameron', 'Maria Olsen', 'Mindy Robinson', 'Ron Jeremy',\n",
       "       'Tony Todd', 'Elissa Dowling', 'Lance Henriksen', 'Doug Jones',\n",
       "       'Ray Wise', 'Larry Fessenden'],\n",
       "      dtype='object')"
      ]
     },
     "execution_count": 114,
     "metadata": {},
     "output_type": "execute_result"
    }
   ],
   "source": [
    "horrors.columns"
   ]
  },
  {
   "cell_type": "code",
   "execution_count": 127,
   "metadata": {},
   "outputs": [],
   "source": [
    "horrors['TopStars'] = horrors.loc[:,'Brinke Stevens':].sum(axis = 1)"
   ]
  },
  {
   "cell_type": "code",
   "execution_count": 133,
   "metadata": {},
   "outputs": [
    {
     "data": {
      "text/plain": [
       "array([0., 1., 2., 3., 5.])"
      ]
     },
     "execution_count": 133,
     "metadata": {},
     "output_type": "execute_result"
    }
   ],
   "source": [
    "horrors['TopStars'].unique()"
   ]
  },
  {
   "cell_type": "code",
   "execution_count": null,
   "metadata": {},
   "outputs": [],
   "source": [
    "\n",
    "Let's have a look at the movie with most of the popular actors in it:\n"
   ]
  },
  {
   "cell_type": "code",
   "execution_count": 132,
   "metadata": {},
   "outputs": [
    {
     "data": {
      "text/html": [
       "<div>\n",
       "<style scoped>\n",
       "    .dataframe tbody tr th:only-of-type {\n",
       "        vertical-align: middle;\n",
       "    }\n",
       "\n",
       "    .dataframe tbody tr th {\n",
       "        vertical-align: top;\n",
       "    }\n",
       "\n",
       "    .dataframe thead th {\n",
       "        text-align: right;\n",
       "    }\n",
       "</style>\n",
       "<table border=\"1\" class=\"dataframe\">\n",
       "  <thead>\n",
       "    <tr style=\"text-align: right;\">\n",
       "      <th></th>\n",
       "      <th>Title</th>\n",
       "      <th>Genres</th>\n",
       "      <th>Release Country</th>\n",
       "      <th>Movie Rating</th>\n",
       "      <th>Review Rating</th>\n",
       "      <th>Plot</th>\n",
       "      <th>Cast</th>\n",
       "      <th>Language</th>\n",
       "      <th>Filming Locations</th>\n",
       "      <th>Budget</th>\n",
       "      <th>...</th>\n",
       "      <th>Maria Olsen</th>\n",
       "      <th>Mindy Robinson</th>\n",
       "      <th>Ron Jeremy</th>\n",
       "      <th>Tony Todd</th>\n",
       "      <th>Elissa Dowling</th>\n",
       "      <th>Lance Henriksen</th>\n",
       "      <th>Doug Jones</th>\n",
       "      <th>Ray Wise</th>\n",
       "      <th>Larry Fessenden</th>\n",
       "      <th>TopStars</th>\n",
       "    </tr>\n",
       "  </thead>\n",
       "  <tbody>\n",
       "    <tr>\n",
       "      <th>892</th>\n",
       "      <td>Disciples</td>\n",
       "      <td>Horror</td>\n",
       "      <td>USA</td>\n",
       "      <td>R</td>\n",
       "      <td>2.1</td>\n",
       "      <td>Directed by Joe Hollow. With Tom Lodewyck, Ton...</td>\n",
       "      <td>[Tom Lodewyck, Tony Todd, Linnea Quigley, Angu...</td>\n",
       "      <td>English</td>\n",
       "      <td>Florida, USA</td>\n",
       "      <td>$115,000</td>\n",
       "      <td>...</td>\n",
       "      <td>0.0</td>\n",
       "      <td>0.0</td>\n",
       "      <td>0.0</td>\n",
       "      <td>1.0</td>\n",
       "      <td>0.0</td>\n",
       "      <td>0.0</td>\n",
       "      <td>0.0</td>\n",
       "      <td>0.0</td>\n",
       "      <td>0.0</td>\n",
       "      <td>5.0</td>\n",
       "    </tr>\n",
       "  </tbody>\n",
       "</table>\n",
       "<p>1 rows × 64 columns</p>\n",
       "</div>"
      ],
      "text/plain": [
       "         Title   Genres Release Country Movie Rating  Review Rating  \\\n",
       "892  Disciples   Horror             USA            R            2.1   \n",
       "\n",
       "                                                  Plot  \\\n",
       "892  Directed by Joe Hollow. With Tom Lodewyck, Ton...   \n",
       "\n",
       "                                                  Cast Language  \\\n",
       "892  [Tom Lodewyck, Tony Todd, Linnea Quigley, Angu...  English   \n",
       "\n",
       "    Filming Locations     Budget    ...     Maria Olsen  Mindy Robinson  \\\n",
       "892      Florida, USA  $115,000     ...             0.0             0.0   \n",
       "\n",
       "     Ron Jeremy Tony Todd  Elissa Dowling  Lance Henriksen  Doug Jones  \\\n",
       "892         0.0       1.0             0.0              0.0         0.0   \n",
       "\n",
       "     Ray Wise  Larry Fessenden  TopStars  \n",
       "892       0.0              0.0       5.0  \n",
       "\n",
       "[1 rows x 64 columns]"
      ]
     },
     "execution_count": 132,
     "metadata": {},
     "output_type": "execute_result"
    }
   ],
   "source": [
    "horrors[horrors['TopStars'] == horrors['TopStars'].max()]"
   ]
  },
  {
   "cell_type": "markdown",
   "metadata": {},
   "source": [
    "\n",
    "It looks like it didn't help much: the rating is pretty low...\n"
   ]
  },
  {
   "cell_type": "code",
   "execution_count": 136,
   "metadata": {},
   "outputs": [
    {
     "data": {
      "text/plain": [
       "5.0"
      ]
     },
     "execution_count": 136,
     "metadata": {},
     "output_type": "execute_result"
    }
   ],
   "source": [
    "horrors[horrors['TopStars']>1]['Review Rating'].median()"
   ]
  },
  {
   "cell_type": "markdown",
   "metadata": {},
   "source": [
    "\n",
    "...but in general these movies don't stand out from the crowd, the median of the review rating is in line with the overall median.\n"
   ]
  },
  {
   "cell_type": "code",
   "execution_count": null,
   "metadata": {},
   "outputs": [],
   "source": [
    "\n",
    "Let's go back to another column that has some NaNs: 'Language'.\n"
   ]
  },
  {
   "cell_type": "code",
   "execution_count": 141,
   "metadata": {},
   "outputs": [
    {
     "data": {
      "text/plain": [
       "array(['Mexico', 'USA', 'Russia', 'UK', 'Spain', 'Thailand', 'India',\n",
       "       'Italy', 'Canada', 'South Korea', 'Taiwan', 'Japan'], dtype=object)"
      ]
     },
     "execution_count": 141,
     "metadata": {},
     "output_type": "execute_result"
    }
   ],
   "source": [
    "\n",
    "horrors.loc[horrors['Language'].isnull(), 'Release Country'].unique()\n"
   ]
  },
  {
   "cell_type": "markdown",
   "metadata": {},
   "source": [
    "\n",
    "I believe we can safely assume that the movies made in the USA and in the UK are in English: it's not 100% certain, but very probable. I will fill these NaNs with 'English' then.\n"
   ]
  },
  {
   "cell_type": "code",
   "execution_count": 148,
   "metadata": {},
   "outputs": [],
   "source": [
    "horrors.loc[(horrors['Language'].isnull())&((horrors['Release Country'] == 'USA')|(horrors['Release Country'] == 'UK')), 'Language'] = 'English'"
   ]
  },
  {
   "cell_type": "code",
   "execution_count": 152,
   "metadata": {},
   "outputs": [
    {
     "data": {
      "text/html": [
       "<div>\n",
       "<style scoped>\n",
       "    .dataframe tbody tr th:only-of-type {\n",
       "        vertical-align: middle;\n",
       "    }\n",
       "\n",
       "    .dataframe tbody tr th {\n",
       "        vertical-align: top;\n",
       "    }\n",
       "\n",
       "    .dataframe thead th {\n",
       "        text-align: right;\n",
       "    }\n",
       "</style>\n",
       "<table border=\"1\" class=\"dataframe\">\n",
       "  <thead>\n",
       "    <tr style=\"text-align: right;\">\n",
       "      <th></th>\n",
       "      <th>Title</th>\n",
       "      <th>Release Country</th>\n",
       "    </tr>\n",
       "  </thead>\n",
       "  <tbody>\n",
       "    <tr>\n",
       "      <th>67</th>\n",
       "      <td>La Niña de la Mina</td>\n",
       "      <td>Mexico</td>\n",
       "    </tr>\n",
       "    <tr>\n",
       "      <th>184</th>\n",
       "      <td>Shopping Tour</td>\n",
       "      <td>Russia</td>\n",
       "    </tr>\n",
       "    <tr>\n",
       "      <th>486</th>\n",
       "      <td>Psychophonia</td>\n",
       "      <td>Spain</td>\n",
       "    </tr>\n",
       "    <tr>\n",
       "      <th>606</th>\n",
       "      <td>Realms</td>\n",
       "      <td>Thailand</td>\n",
       "    </tr>\n",
       "    <tr>\n",
       "      <th>685</th>\n",
       "      <td>Mona_Darling</td>\n",
       "      <td>India</td>\n",
       "    </tr>\n",
       "    <tr>\n",
       "      <th>887</th>\n",
       "      <td>Blood on Méliès' Moon</td>\n",
       "      <td>Italy</td>\n",
       "    </tr>\n",
       "    <tr>\n",
       "      <th>1603</th>\n",
       "      <td>Nayaki</td>\n",
       "      <td>India</td>\n",
       "    </tr>\n",
       "    <tr>\n",
       "      <th>1998</th>\n",
       "      <td>Infected</td>\n",
       "      <td>Canada</td>\n",
       "    </tr>\n",
       "    <tr>\n",
       "      <th>2217</th>\n",
       "      <td>Treehouse</td>\n",
       "      <td>South Korea</td>\n",
       "    </tr>\n",
       "    <tr>\n",
       "      <th>2260</th>\n",
       "      <td>Mon Mon Mon Monsters</td>\n",
       "      <td>Taiwan</td>\n",
       "    </tr>\n",
       "    <tr>\n",
       "      <th>2492</th>\n",
       "      <td>Lady of Csejte</td>\n",
       "      <td>Russia</td>\n",
       "    </tr>\n",
       "    <tr>\n",
       "      <th>2884</th>\n",
       "      <td>Resident Evil: Damnation</td>\n",
       "      <td>Japan</td>\n",
       "    </tr>\n",
       "    <tr>\n",
       "      <th>3260</th>\n",
       "      <td>Buckout Road</td>\n",
       "      <td>Canada</td>\n",
       "    </tr>\n",
       "  </tbody>\n",
       "</table>\n",
       "</div>"
      ],
      "text/plain": [
       "                         Title Release Country\n",
       "67          La Niña de la Mina          Mexico\n",
       "184              Shopping Tour          Russia\n",
       "486               Psychophonia           Spain\n",
       "606                     Realms        Thailand\n",
       "685               Mona_Darling           India\n",
       "887      Blood on Méliès' Moon           Italy\n",
       "1603                    Nayaki           India\n",
       "1998                  Infected          Canada\n",
       "2217                 Treehouse     South Korea\n",
       "2260      Mon Mon Mon Monsters          Taiwan\n",
       "2492            Lady of Csejte          Russia\n",
       "2884  Resident Evil: Damnation           Japan\n",
       "3260              Buckout Road          Canada"
      ]
     },
     "execution_count": 152,
     "metadata": {},
     "output_type": "execute_result"
    }
   ],
   "source": [
    "horrors.loc[horrors['Language'].isnull(), ['Title', 'Release Country']]"
   ]
  },
  {
   "cell_type": "markdown",
   "metadata": {},
   "source": [
    "\n",
    "As for the other movies, it's hard to tell for sure whether their titles appear in translated version, or they were actually released in English (this includes Canada, as the two movies might have been done in French). I will just set the language of the Mexican movie to Spanish, and the rest to 'unknown'.\n"
   ]
  },
  {
   "cell_type": "code",
   "execution_count": 153,
   "metadata": {},
   "outputs": [],
   "source": [
    "horrors.loc[horrors['Title'] == 'La Niña de la Mina', 'Language'] = 'Spanish'"
   ]
  },
  {
   "cell_type": "code",
   "execution_count": 154,
   "metadata": {},
   "outputs": [],
   "source": [
    "horrors.loc[horrors['Language'].isnull(), 'Language'] = 'unknown'"
   ]
  },
  {
   "cell_type": "code",
   "execution_count": 156,
   "metadata": {},
   "outputs": [
    {
     "data": {
      "text/plain": [
       "Language\n",
       "Aboriginal|English                              1\n",
       "Albanian|Albanian                               2\n",
       "Arabic                                          1\n",
       "Arabic|English                                  2\n",
       "Arabic|English|French                           1\n",
       "Basque                                          1\n",
       "Bengali                                         3\n",
       "Bulgarian|English                               1\n",
       "Cantonese                                       4\n",
       "Cantonese|Japanese                              1\n",
       "Cantonese|Mandarin                              3\n",
       "Cantonese|Mandarin|Malay                        1\n",
       "Catalan|English                                 1\n",
       "Catalan|Spanish|German|English                  1\n",
       "Chinese                                        10\n",
       "Chinese|Mandarin                                2\n",
       "Czech                                           1\n",
       "Danish                                          4\n",
       "Danish|Danish                                   1\n",
       "Danish|English|Norwegian|Swedish|Romanian       1\n",
       "Divehi                                          1\n",
       "Dutch                                           4\n",
       "Dutch|English                                   1\n",
       "English                                      2479\n",
       "English|American Sign Language                  3\n",
       "English|Aramaic                                 1\n",
       "English|Bulgarian                               2\n",
       "English|Chinese                                 1\n",
       "English|Dutch                                   2\n",
       "English|Egyptian (Ancient)                      1\n",
       "                                             ... \n",
       "Russian|English                                 1\n",
       "Russian|English|German                          1\n",
       "Russian|Russian                                 1\n",
       "Serbian                                         1\n",
       "Serbian|English|Swedish                         1\n",
       "Sinhalese                                       1\n",
       "Slovak                                          2\n",
       "Slovenian                                       1\n",
       "Spanish                                        97\n",
       "Spanish|Catalan                                 2\n",
       "Spanish|Catalan|French                          1\n",
       "Spanish|English                                 7\n",
       "Spanish|French                                  1\n",
       "Spanish|Gallegan                                1\n",
       "Spanish|Quechua                                 1\n",
       "Swedish                                        10\n",
       "Swedish|English                                 2\n",
       "Swedish|Scanian                                 1\n",
       "Tamil                                          29\n",
       "Tamil|English                                   1\n",
       "Tamil|Malayalam|Hindi|English                   1\n",
       "Tamil|Telugu                                    3\n",
       "Telugu                                         11\n",
       "Thai                                           34\n",
       "Thai|English                                    2\n",
       "Turkish                                        30\n",
       "Urdu                                            3\n",
       "Vietnamese                                      5\n",
       "Vietnamese|English                              1\n",
       "unknown                                        12\n",
       "Length: 188, dtype: int64"
      ]
     },
     "execution_count": 156,
     "metadata": {},
     "output_type": "execute_result"
    }
   ],
   "source": [
    "horrors.groupby('Language').size()"
   ]
  },
  {
   "cell_type": "markdown",
   "metadata": {},
   "source": [
    "\n",
    "Wow, should've looked into that earlier! Some of the movies have more than one language. Not sure what it means: do they have subtitled parts in another language, or were released in multiple versions? I'm tempted to do the one-hot encoding again, although it would mean having a lot of additional columns to deal with. Let's see how many languages there are in total, by doing the same trick as we did with the cast: split to lists, then counting.\n"
   ]
  },
  {
   "cell_type": "code",
   "execution_count": 157,
   "metadata": {},
   "outputs": [],
   "source": [
    "horrors['Languages'] = horrors['Language'].str.split('(?:[|])')"
   ]
  },
  {
   "cell_type": "code",
   "execution_count": 158,
   "metadata": {},
   "outputs": [
    {
     "data": {
      "text/plain": [
       "0                  [English]\n",
       "1                  [English]\n",
       "2                  [English]\n",
       "3                  [English]\n",
       "4                  [Italian]\n",
       "5                  [English]\n",
       "6                  [English]\n",
       "7                 [Japanese]\n",
       "8                  [English]\n",
       "9                    [Hindi]\n",
       "10                [Mandarin]\n",
       "11                 [English]\n",
       "12                 [English]\n",
       "13                 [English]\n",
       "14               [Malayalam]\n",
       "15                 [English]\n",
       "16                 [English]\n",
       "17                 [English]\n",
       "18                 [English]\n",
       "19                 [English]\n",
       "20                 [English]\n",
       "21                 [English]\n",
       "22                 [English]\n",
       "23       [Filipino, Tagalog]\n",
       "24                 [English]\n",
       "25                 [English]\n",
       "26                 [English]\n",
       "27                 [English]\n",
       "28                 [English]\n",
       "29                 [English]\n",
       "                ...         \n",
       "3298               [English]\n",
       "3299    [English, Ukrainian]\n",
       "3300              [Japanese]\n",
       "3301               [English]\n",
       "3302               [English]\n",
       "3303               [English]\n",
       "3304               [English]\n",
       "3305               [English]\n",
       "3306               [English]\n",
       "3307               [English]\n",
       "3308              [Japanese]\n",
       "3309               [English]\n",
       "3310               [English]\n",
       "3311               [English]\n",
       "3312      [English, Turkish]\n",
       "3313               [English]\n",
       "3314               [English]\n",
       "3315               [English]\n",
       "3316               [English]\n",
       "3317               [English]\n",
       "3318               [English]\n",
       "3319               [English]\n",
       "3320               [English]\n",
       "3321               [English]\n",
       "3322               [English]\n",
       "3323               [English]\n",
       "3324               [English]\n",
       "3325               [English]\n",
       "3326               [English]\n",
       "3327               [English]\n",
       "Name: Languages, Length: 3328, dtype: object"
      ]
     },
     "execution_count": 158,
     "metadata": {},
     "output_type": "execute_result"
    }
   ],
   "source": [
    "horrors['Languages']"
   ]
  },
  {
   "cell_type": "code",
   "execution_count": 159,
   "metadata": {},
   "outputs": [],
   "source": [
    "languages = horrors['Languages'].sum()"
   ]
  },
  {
   "cell_type": "code",
   "execution_count": 160,
   "metadata": {},
   "outputs": [
    {
     "data": {
      "text/plain": [
       "3708"
      ]
     },
     "execution_count": 160,
     "metadata": {},
     "output_type": "execute_result"
    }
   ],
   "source": [
    "len(languages)"
   ]
  },
  {
   "cell_type": "code",
   "execution_count": 162,
   "metadata": {},
   "outputs": [
    {
     "data": {
      "text/plain": [
       "78"
      ]
     },
     "execution_count": 162,
     "metadata": {},
     "output_type": "execute_result"
    }
   ],
   "source": [
    "len(set(languages))"
   ]
  },
  {
   "cell_type": "code",
   "execution_count": null,
   "metadata": {},
   "outputs": [],
   "source": [
    "\n",
    "We have 78 languages in total, let's see what the frequency is.\n"
   ]
  },
  {
   "cell_type": "code",
   "execution_count": 163,
   "metadata": {},
   "outputs": [
    {
     "data": {
      "text/plain": [
       "{'English': 2690,\n",
       " 'Italian': 27,\n",
       " 'Japanese': 104,\n",
       " 'Hindi': 45,\n",
       " 'Mandarin': 25,\n",
       " 'Malayalam': 16,\n",
       " 'Filipino': 44,\n",
       " 'Tagalog': 41,\n",
       " 'Tamil': 40,\n",
       " 'Indonesian': 28,\n",
       " 'Spanish': 153,\n",
       " 'Malay': 15,\n",
       " 'Turkish': 33,\n",
       " 'Russian': 29,\n",
       " 'German': 55,\n",
       " 'Thai': 40,\n",
       " 'Telugu': 19,\n",
       " 'French': 42,\n",
       " 'Greek': 3,\n",
       " 'Urdu': 3,\n",
       " 'Chinese': 16,\n",
       " 'Swedish': 22,\n",
       " 'Korean': 24,\n",
       " 'Latvian': 1,\n",
       " 'Romanian': 7,\n",
       " 'unknown': 12,\n",
       " 'Cantonese': 12,\n",
       " 'Danish': 9,\n",
       " 'Serbian': 5,\n",
       " 'Dutch': 8,\n",
       " 'Gallegan': 1,\n",
       " 'Portuguese': 20,\n",
       " 'Icelandic': 2,\n",
       " 'Kannada': 11,\n",
       " 'Hebrew': 3,\n",
       " 'Czech': 1,\n",
       " 'Min Nan': 2,\n",
       " 'Divehi': 1,\n",
       " 'Vietnamese': 7,\n",
       " 'Finnish': 3,\n",
       " 'Albanian': 4,\n",
       " 'Marathi': 3,\n",
       " 'Bengali': 3,\n",
       " 'Norwegian': 9,\n",
       " 'Slovak': 2,\n",
       " 'Slovenian': 2,\n",
       " 'Guarani': 1,\n",
       " 'Hungarian': 7,\n",
       " 'Polish': 3,\n",
       " 'Sinhalese': 1,\n",
       " 'Catalan': 5,\n",
       " 'Greenlandic': 1,\n",
       " 'Scanian': 1,\n",
       " 'Esperanto': 1,\n",
       " 'Arabic': 8,\n",
       " 'Visayan': 1,\n",
       " 'Lao': 1,\n",
       " 'Estonian': 1,\n",
       " 'Tulu': 1,\n",
       " 'Latin': 6,\n",
       " 'Quechua': 1,\n",
       " 'Aboriginal': 1,\n",
       " 'Persian': 3,\n",
       " 'Bulgarian': 3,\n",
       " 'Flemish': 2,\n",
       " 'Basque': 1,\n",
       " 'Mohawk': 1,\n",
       " 'Egyptian (Ancient)': 1,\n",
       " 'Lithuanian': 1,\n",
       " 'Yiddish': 1,\n",
       " 'American Sign Language': 3,\n",
       " 'None': 1,\n",
       " 'Ukrainian': 4,\n",
       " 'Saami': 1,\n",
       " 'Scottish Gaelic': 1,\n",
       " 'Sanskrit': 1,\n",
       " 'Aramaic': 1,\n",
       " 'Japanese Sign Language': 1}"
      ]
     },
     "execution_count": 163,
     "metadata": {},
     "output_type": "execute_result"
    }
   ],
   "source": [
    "{language:languages.count(language) for language in languages}"
   ]
  },
  {
   "cell_type": "markdown",
   "metadata": {},
   "source": [
    "\n",
    "Some of them must be secondary languages (as in: used in the movie, but the main language is something else), unless there really are horrors done in Latin, Sanskrit and Aramaic! If that's the case, they either rely mostly on the visuals, or their producers didn't really care about the revenues and targeted a very limited audience :)\n",
    "\n",
    "Let's go back to the original grouping and focus on the languages with many movies done in that language only.\n"
   ]
  },
  {
   "cell_type": "code",
   "execution_count": 202,
   "metadata": {},
   "outputs": [],
   "source": [
    "language_freq = horrors['Language'].value_counts().to_dict()"
   ]
  },
  {
   "cell_type": "code",
   "execution_count": 203,
   "metadata": {},
   "outputs": [
    {
     "data": {
      "text/plain": [
       "{'English': 2479,\n",
       " 'Spanish': 97,\n",
       " 'Japanese': 77,\n",
       " 'Hindi': 37,\n",
       " 'Thai': 34,\n",
       " 'Filipino|Tagalog': 34,\n",
       " 'English|Spanish': 30,\n",
       " 'Turkish': 30,\n",
       " 'Tamil': 29,\n",
       " 'German': 28,\n",
       " 'Indonesian': 24,\n",
       " 'Korean': 19,\n",
       " 'Russian': 14,\n",
       " 'French': 14,\n",
       " 'Malay': 13,\n",
       " 'unknown': 12,\n",
       " 'Portuguese': 12,\n",
       " 'Telugu': 11,\n",
       " 'Italian': 10,\n",
       " 'Chinese': 10,\n",
       " 'Swedish': 10,\n",
       " 'Kannada': 10,\n",
       " 'English|English': 9,\n",
       " 'Malayalam': 9,\n",
       " 'Mandarin': 9,\n",
       " 'English|Russian': 8,\n",
       " 'Spanish|English': 7,\n",
       " 'English|Italian': 7,\n",
       " 'Japanese|English': 7,\n",
       " 'English|Japanese': 6,\n",
       " 'English|German': 5,\n",
       " 'English|French': 5,\n",
       " 'Vietnamese': 5,\n",
       " 'Cantonese': 4,\n",
       " 'Dutch': 4,\n",
       " 'Danish': 4,\n",
       " 'English|American Sign Language': 3,\n",
       " 'Mandarin|Cantonese': 3,\n",
       " 'English|Portuguese': 3,\n",
       " 'English|Hungarian': 3,\n",
       " 'Cantonese|Mandarin': 3,\n",
       " 'English|Indonesian': 3,\n",
       " 'Tamil|Telugu': 3,\n",
       " 'Norwegian': 3,\n",
       " 'Urdu': 3,\n",
       " 'German|English': 3,\n",
       " 'Filipino|Tagalog|English': 3,\n",
       " 'English|Thai': 3,\n",
       " 'Bengali': 3,\n",
       " 'English|Serbian': 3,\n",
       " 'English|Ukrainian': 3,\n",
       " 'Mandarin|English': 2,\n",
       " 'Albanian|Albanian': 2,\n",
       " 'Slovak': 2,\n",
       " 'Mandarin|Min Nan': 2,\n",
       " 'French|English': 2,\n",
       " 'English|Romanian': 2,\n",
       " 'English|Spanish|Latin': 2,\n",
       " 'English|Latin': 2,\n",
       " 'Filipino': 2,\n",
       " 'English|Dutch': 2,\n",
       " 'Arabic|English': 2,\n",
       " 'Hungarian|English': 2,\n",
       " 'Persian': 2,\n",
       " 'Chinese|Mandarin': 2,\n",
       " 'Polish': 2,\n",
       " 'English|Turkish': 2,\n",
       " 'Korean|Japanese': 2,\n",
       " 'Spanish|Catalan': 2,\n",
       " 'English|German|Russian': 2,\n",
       " 'Icelandic': 2,\n",
       " 'English|Bulgarian': 2,\n",
       " 'Thai|English': 2,\n",
       " 'Swedish|English': 2,\n",
       " 'German|English|Russian': 1,\n",
       " 'Catalan|Spanish|German|English': 1,\n",
       " 'Finnish': 1,\n",
       " 'English|Mandarin': 1,\n",
       " 'Italian|English': 1,\n",
       " 'English|German|Ukrainian': 1,\n",
       " 'Catalan|English': 1,\n",
       " 'Spanish|French': 1,\n",
       " 'Korean|English': 1,\n",
       " 'French|Danish|Flemish': 1,\n",
       " 'English|Italian|Spanish': 1,\n",
       " 'English|Hindi': 1,\n",
       " 'English|French|German': 1,\n",
       " 'Bulgarian|English': 1,\n",
       " 'English|Lithuanian': 1,\n",
       " 'Aboriginal|English': 1,\n",
       " 'English|Spanish|Chinese|Scottish Gaelic': 1,\n",
       " 'Tamil|English': 1,\n",
       " 'English|Malay': 1,\n",
       " 'Serbian': 1,\n",
       " 'English|Spanish|Hebrew|Arabic': 1,\n",
       " 'Hindi|English|Tamil|Telugu|Malayalam': 1,\n",
       " 'Finnish|English|Swedish': 1,\n",
       " 'English|Hindi|Sanskrit': 1,\n",
       " 'English|Italian|German': 1,\n",
       " 'Swedish|Scanian': 1,\n",
       " 'Divehi': 1,\n",
       " 'Japanese|Japanese Sign Language|English|German': 1,\n",
       " 'English|Aramaic': 1,\n",
       " 'Malayalam|Tamil|Telugu': 1,\n",
       " 'Basque': 1,\n",
       " 'English|Egyptian (Ancient)': 1,\n",
       " 'Danish|Danish': 1,\n",
       " 'Sinhalese': 1,\n",
       " 'Marathi': 1,\n",
       " 'French|Spanish': 1,\n",
       " 'Italian|Slovenian': 1,\n",
       " 'Norwegian|English|Swedish': 1,\n",
       " 'English|French|Italian': 1,\n",
       " 'Vietnamese|English': 1,\n",
       " 'English|Esperanto': 1,\n",
       " 'Persian|German': 1,\n",
       " 'Greek': 1,\n",
       " 'Cantonese|Japanese': 1,\n",
       " 'Arabic': 1,\n",
       " 'None': 1,\n",
       " 'Malayalam|Tamil': 1,\n",
       " 'English|Japanese|Vietnamese': 1,\n",
       " 'Spanish|Catalan|French': 1,\n",
       " 'English|French|Swedish': 1,\n",
       " 'Norwegian|English': 1,\n",
       " 'Russian|English': 1,\n",
       " 'Japanese|English|Portuguese|Arabic|French': 1,\n",
       " 'French|English|Spanish': 1,\n",
       " 'English|Chinese': 1,\n",
       " 'Filipino|Tagalog|Korean': 1,\n",
       " 'Flemish|French|Dutch': 1,\n",
       " 'Russian|Russian': 1,\n",
       " 'Hebrew': 1,\n",
       " 'Filipino|Tagalog|Visayan': 1,\n",
       " 'Italian|Italian': 1,\n",
       " 'French|English|Swedish': 1,\n",
       " 'Czech': 1,\n",
       " 'Mandarin|Japanese': 1,\n",
       " 'Danish|English|Norwegian|Swedish|Romanian': 1,\n",
       " 'Serbian|English|Swedish': 1,\n",
       " 'Romanian': 1,\n",
       " 'Kannada|Telugu|Tamil|Malayalam|Marathi|Tulu': 1,\n",
       " 'Italian|German': 1,\n",
       " 'English|Spanish|Japanese|German|French|Korean': 1,\n",
       " 'English|Norwegian': 1,\n",
       " 'English|French|Arabic|Turkish': 1,\n",
       " 'English|Mohawk|French': 1,\n",
       " 'Portuguese|Japanese|Guarani': 1,\n",
       " 'Norwegian|Swedish': 1,\n",
       " 'English|French|Latin': 1,\n",
       " 'Italian|Romanian': 1,\n",
       " 'Latvian': 1,\n",
       " 'Hindi|Marathi': 1,\n",
       " 'Russian|English|German': 1,\n",
       " 'English|Spanish|German': 1,\n",
       " 'Polish|English|Yiddish': 1,\n",
       " 'Finnish|Hungarian': 1,\n",
       " 'English|Japanese|Hebrew|Portuguese|French|Arabic|Filipino|German': 1,\n",
       " 'English|Hungarian|German': 1,\n",
       " 'Filipino|Tagalog|English|Japanese': 1,\n",
       " 'Spanish|Quechua': 1,\n",
       " 'English|Spanish|Latin|Italian': 1,\n",
       " 'English|German|Spanish': 1,\n",
       " 'Hindi|Telugu|Tamil': 1,\n",
       " 'Greenlandic': 1,\n",
       " 'English|Spanish|French': 1,\n",
       " 'Cantonese|Mandarin|Malay': 1,\n",
       " 'German|French': 1,\n",
       " 'Malayalam|Malayalam|Hindi|Tamil|Telugu': 1,\n",
       " 'Hindi|English': 1,\n",
       " 'Mandarin|English|Japanese': 1,\n",
       " 'English|Japanese|Chinese': 1,\n",
       " 'English|French|Greek': 1,\n",
       " 'Norwegian|English|German': 1,\n",
       " 'Tamil|Malayalam|Hindi|English': 1,\n",
       " 'Japanese|Indonesian': 1,\n",
       " 'Slovenian': 1,\n",
       " 'Arabic|English|French': 1,\n",
       " 'English|Swedish': 1,\n",
       " 'Romanian|Romanian': 1,\n",
       " 'Portuguese|Portuguese': 1,\n",
       " 'English|Saami': 1,\n",
       " 'Lao|Estonian|English|Thai': 1,\n",
       " 'French|Greek|English': 1,\n",
       " 'Filipino|Tagalog|Chinese': 1,\n",
       " 'Spanish|Gallegan': 1,\n",
       " 'English|German|Swedish|Danish': 1,\n",
       " 'Dutch|English': 1}"
      ]
     },
     "execution_count": 203,
     "metadata": {},
     "output_type": "execute_result"
    }
   ],
   "source": [
    "language_freq"
   ]
  },
  {
   "cell_type": "code",
   "execution_count": 212,
   "metadata": {},
   "outputs": [],
   "source": [
    "top_languages = [language for language in language_freq.keys() if language_freq[language] >= 10]"
   ]
  },
  {
   "cell_type": "code",
   "execution_count": 224,
   "metadata": {},
   "outputs": [
    {
     "name": "stdout",
     "output_type": "stream",
     "text": [
      "Language: English / Review rating median: 5.0\n",
      "Language: Spanish / Review rating median: 5.0\n",
      "Language: Japanese / Review rating median: 5.9\n",
      "Language: Hindi / Review rating median: 4.9\n",
      "Language: Thai / Review rating median: 5.6\n",
      "Language: Filipino|Tagalog / Review rating median: 5.8\n",
      "Language: English|Spanish / Review rating median: 5.0\n",
      "Language: Turkish / Review rating median: 5.7\n",
      "Language: Tamil / Review rating median: 5.7\n",
      "Language: German / Review rating median: 5.3\n",
      "Language: Indonesian / Review rating median: 6.4\n",
      "Language: Korean / Review rating median: 5.8\n",
      "Language: Russian / Review rating median: 5.0\n",
      "Language: French / Review rating median: 5.5\n",
      "Language: Malay / Review rating median: 5.1\n",
      "Language: unknown / Review rating median: 5.0\n",
      "Language: Portuguese / Review rating median: 6.2\n",
      "Language: Telugu / Review rating median: 6.5\n",
      "Language: Italian / Review rating median: 5.2\n",
      "Language: Chinese / Review rating median: 4.8\n",
      "Language: Swedish / Review rating median: 5.3\n",
      "Language: Kannada / Review rating median: 7.5\n"
     ]
    }
   ],
   "source": [
    "for language in top_languages:\n",
    "    rating_median = horrors.loc[horrors['Language'] == language, 'Review Rating'].median()\n",
    "    print (\"Language: {} / Review rating median: {:.1f}\".format(language, rating_median))"
   ]
  },
  {
   "cell_type": "markdown",
   "metadata": {},
   "source": [
    "\n",
    "Turns out that movies in Kannada language (which as Wikipedia tells me is _\"a Dravidian language spoken predominantly by Kannada people in India, mainly in the state of Karnataka, and by significant linguistic minorities in the states of Andhra Pradesh, Telangana, Tamil Nadu, Maharashtra, Kerala, Goa and abroad.\"_) are much better than the average. It could also mean, though, that the Kannada speakers on IMDB are more generous in their ratings than others.\n"
   ]
  },
  {
   "cell_type": "markdown",
   "metadata": {},
   "source": [
    "Let's see if there are significant differences in movie run time by language:"
   ]
  },
  {
   "cell_type": "code",
   "execution_count": 227,
   "metadata": {},
   "outputs": [
    {
     "data": {
      "text/plain": [
       "Language\n",
       "Chinese              93.5\n",
       "English              90.0\n",
       "English|Spanish      86.0\n",
       "Filipino|Tagalog     95.0\n",
       "French               90.0\n",
       "German               90.0\n",
       "Hindi               119.0\n",
       "Indonesian           90.0\n",
       "Italian              83.5\n",
       "Japanese             90.0\n",
       "Kannada             123.0\n",
       "Korean               97.0\n",
       "Malay                90.0\n",
       "Portuguese           95.0\n",
       "Russian              90.0\n",
       "Spanish              90.0\n",
       "Swedish              90.0\n",
       "Tamil               122.0\n",
       "Telugu              123.0\n",
       "Thai                 91.5\n",
       "Turkish              90.0\n",
       "unknown              95.5\n",
       "Name: Minutes, dtype: float64"
      ]
     },
     "execution_count": 227,
     "metadata": {},
     "output_type": "execute_result"
    }
   ],
   "source": [
    "horrors[horrors['Language'].isin(top_languages)].groupby('Language')['Minutes'].median()"
   ]
  },
  {
   "cell_type": "markdown",
   "metadata": {},
   "source": [
    "\n",
    "The movies in Kannada and Telugu are both highly rated and pretty long. Let's see if there's some significant correlation between the length and the review rating:\n"
   ]
  },
  {
   "cell_type": "code",
   "execution_count": 242,
   "metadata": {},
   "outputs": [
    {
     "data": {
      "image/png": "[encoded data removed]",
      "text/plain": [
       "<Figure size 432x288 with 1 Axes>"
      ]
     },
     "metadata": {
      "needs_background": "light"
     },
     "output_type": "display_data"
    }
   ],
   "source": [
    "fig, ax = plt.subplots()\n",
    "plt.scatter(horrors['Minutes'], horrors['Review Rating'], s = 2, c = 'darkmagenta', alpha = 0.3)\n",
    "plt.xlabel(\"run time [minutes]\")\n",
    "plt.xticks(range(0,195,15))\n",
    "plt.ylabel(\"review rating\")\n",
    "plt.yticks(range(0,11,1))\n",
    "plt.show()"
   ]
  },
  {
   "cell_type": "markdown",
   "metadata": {},
   "source": [
    "\n",
    "Nope, no clear link between the length of the movie and the rating. There's something interesting in the chart, though: two clearly visible lines corresponding to 90 minutes run time and 5.0 rating. These are not just median values:\n"
   ]
  },
  {
   "cell_type": "code",
   "execution_count": 252,
   "metadata": {},
   "outputs": [
    {
     "data": {
      "text/plain": [
       "781"
      ]
     },
     "execution_count": 252,
     "metadata": {},
     "output_type": "execute_result"
    }
   ],
   "source": [
    "horrors.loc[horrors['Minutes']==90.0, 'Minutes'].size"
   ]
  },
  {
   "cell_type": "code",
   "execution_count": 254,
   "metadata": {},
   "outputs": [
    {
     "data": {
      "text/plain": [
       "335"
      ]
     },
     "execution_count": 254,
     "metadata": {},
     "output_type": "execute_result"
    }
   ],
   "source": [
    "horrors.loc[horrors['Review Rating']==5.0, 'Review Rating'].size"
   ]
  },
  {
   "cell_type": "code",
   "execution_count": 245,
   "metadata": {},
   "outputs": [],
   "source": [
    "from scipy.stats import mode"
   ]
  },
  {
   "cell_type": "code",
   "execution_count": 246,
   "metadata": {},
   "outputs": [
    {
     "data": {
      "text/plain": [
       "0    90.0\n",
       "dtype: float64"
      ]
     },
     "execution_count": 246,
     "metadata": {},
     "output_type": "execute_result"
    }
   ],
   "source": [
    "horrors['Minutes'].mode()"
   ]
  },
  {
   "cell_type": "code",
   "execution_count": 247,
   "metadata": {},
   "outputs": [
    {
     "data": {
      "text/plain": [
       "0    5.0\n",
       "dtype: float64"
      ]
     },
     "execution_count": 247,
     "metadata": {},
     "output_type": "execute_result"
    }
   ],
   "source": [
    "horrors['Review Rating'].mode()"
   ]
  },
  {
   "cell_type": "markdown",
   "metadata": {},
   "source": [
    "\n",
    "These are also mode values, which is a result of imputing these original NaNs with median values for run time and review ratings.\n"
   ]
  },
  {
   "cell_type": "markdown",
   "metadata": {},
   "source": [
    "_TO BE CONTINUED..._"
   ]
  }
 ],
 "metadata": {
  "kernelspec": {
   "display_name": "Python 3",
   "language": "python",
   "name": "python3"
  },
  "language_info": {
   "codemirror_mode": {
    "name": "ipython",
    "version": 3
   },
   "file_extension": ".py",
   "mimetype": "text/x-python",
   "name": "python",
   "nbconvert_exporter": "python",
   "pygments_lexer": "ipython3",
   "version": "3.6.6"
  }
 },
 "nbformat": 4,
 "nbformat_minor": 2
}
