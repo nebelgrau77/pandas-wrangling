{
 "cells": [
  {
   "cell_type": "code",
   "execution_count": 1,
   "metadata": {},
   "outputs": [],
   "source": [
    "import os\n",
    "import pandas as pd\n",
    "import sqlalchemy as db\n",
    "import seaborn as sns\n",
    "import matplotlib.pyplot as plt\n"
   ]
  },
  {
   "cell_type": "code",
   "execution_count": 2,
   "metadata": {},
   "outputs": [],
   "source": [
    "os.chdir('C:\\\\____michal\\\\dtscnc\\\\kaggle\\\\soccer')"
   ]
  },
  {
   "cell_type": "code",
   "execution_count": 3,
   "metadata": {},
   "outputs": [
    {
     "data": {
      "text/plain": [
       "['database.sqlite']"
      ]
     },
     "execution_count": 3,
     "metadata": {},
     "output_type": "execute_result"
    }
   ],
   "source": [
    "os.listdir()"
   ]
  },
  {
   "cell_type": "code",
   "execution_count": 4,
   "metadata": {},
   "outputs": [],
   "source": [
    "engine = db.create_engine('sqlite:///database.sqlite')"
   ]
  },
  {
   "cell_type": "code",
   "execution_count": 5,
   "metadata": {},
   "outputs": [
    {
     "data": {
      "text/plain": [
       "['Country',\n",
       " 'League',\n",
       " 'Match',\n",
       " 'Player',\n",
       " 'Player_Attributes',\n",
       " 'Team',\n",
       " 'Team_Attributes',\n",
       " 'sqlite_sequence']"
      ]
     },
     "execution_count": 5,
     "metadata": {},
     "output_type": "execute_result"
    }
   ],
   "source": [
    "engine.table_names()"
   ]
  },
  {
   "cell_type": "code",
   "execution_count": 6,
   "metadata": {},
   "outputs": [],
   "source": [
    "country = pd.read_sql_query(\"SELECT * FROM Country\", engine)"
   ]
  },
  {
   "cell_type": "code",
   "execution_count": 7,
   "metadata": {},
   "outputs": [],
   "source": [
    "league = pd.read_sql_query(\"SELECT * FROM League\", engine)"
   ]
  },
  {
   "cell_type": "code",
   "execution_count": 8,
   "metadata": {},
   "outputs": [],
   "source": [
    "soccer = pd.merge(country, league, how = 'inner', on = 'id')"
   ]
  },
  {
   "cell_type": "code",
   "execution_count": 9,
   "metadata": {},
   "outputs": [],
   "source": [
    "soccer.columns = ['id', 'country_name', 'country_id', 'league_name']"
   ]
  },
  {
   "cell_type": "code",
   "execution_count": 10,
   "metadata": {},
   "outputs": [],
   "source": [
    "soccer = soccer.drop('id', axis = 1)"
   ]
  },
  {
   "cell_type": "code",
   "execution_count": 11,
   "metadata": {},
   "outputs": [
    {
     "data": {
      "text/html": [
       "<div>\n",
       "<style scoped>\n",
       "    .dataframe tbody tr th:only-of-type {\n",
       "        vertical-align: middle;\n",
       "    }\n",
       "\n",
       "    .dataframe tbody tr th {\n",
       "        vertical-align: top;\n",
       "    }\n",
       "\n",
       "    .dataframe thead th {\n",
       "        text-align: right;\n",
       "    }\n",
       "</style>\n",
       "<table border=\"1\" class=\"dataframe\">\n",
       "  <thead>\n",
       "    <tr style=\"text-align: right;\">\n",
       "      <th></th>\n",
       "      <th>country_name</th>\n",
       "      <th>country_id</th>\n",
       "      <th>league_name</th>\n",
       "    </tr>\n",
       "  </thead>\n",
       "  <tbody>\n",
       "    <tr>\n",
       "      <th>0</th>\n",
       "      <td>Belgium</td>\n",
       "      <td>1</td>\n",
       "      <td>Belgium Jupiler League</td>\n",
       "    </tr>\n",
       "    <tr>\n",
       "      <th>1</th>\n",
       "      <td>England</td>\n",
       "      <td>1729</td>\n",
       "      <td>England Premier League</td>\n",
       "    </tr>\n",
       "    <tr>\n",
       "      <th>2</th>\n",
       "      <td>France</td>\n",
       "      <td>4769</td>\n",
       "      <td>France Ligue 1</td>\n",
       "    </tr>\n",
       "    <tr>\n",
       "      <th>3</th>\n",
       "      <td>Germany</td>\n",
       "      <td>7809</td>\n",
       "      <td>Germany 1. Bundesliga</td>\n",
       "    </tr>\n",
       "    <tr>\n",
       "      <th>4</th>\n",
       "      <td>Italy</td>\n",
       "      <td>10257</td>\n",
       "      <td>Italy Serie A</td>\n",
       "    </tr>\n",
       "    <tr>\n",
       "      <th>5</th>\n",
       "      <td>Netherlands</td>\n",
       "      <td>13274</td>\n",
       "      <td>Netherlands Eredivisie</td>\n",
       "    </tr>\n",
       "    <tr>\n",
       "      <th>6</th>\n",
       "      <td>Poland</td>\n",
       "      <td>15722</td>\n",
       "      <td>Poland Ekstraklasa</td>\n",
       "    </tr>\n",
       "    <tr>\n",
       "      <th>7</th>\n",
       "      <td>Portugal</td>\n",
       "      <td>17642</td>\n",
       "      <td>Portugal Liga ZON Sagres</td>\n",
       "    </tr>\n",
       "    <tr>\n",
       "      <th>8</th>\n",
       "      <td>Scotland</td>\n",
       "      <td>19694</td>\n",
       "      <td>Scotland Premier League</td>\n",
       "    </tr>\n",
       "    <tr>\n",
       "      <th>9</th>\n",
       "      <td>Spain</td>\n",
       "      <td>21518</td>\n",
       "      <td>Spain LIGA BBVA</td>\n",
       "    </tr>\n",
       "    <tr>\n",
       "      <th>10</th>\n",
       "      <td>Switzerland</td>\n",
       "      <td>24558</td>\n",
       "      <td>Switzerland Super League</td>\n",
       "    </tr>\n",
       "  </tbody>\n",
       "</table>\n",
       "</div>"
      ],
      "text/plain": [
       "   country_name  country_id               league_name\n",
       "0       Belgium           1    Belgium Jupiler League\n",
       "1       England        1729    England Premier League\n",
       "2        France        4769            France Ligue 1\n",
       "3       Germany        7809     Germany 1. Bundesliga\n",
       "4         Italy       10257             Italy Serie A\n",
       "5   Netherlands       13274    Netherlands Eredivisie\n",
       "6        Poland       15722        Poland Ekstraklasa\n",
       "7      Portugal       17642  Portugal Liga ZON Sagres\n",
       "8      Scotland       19694   Scotland Premier League\n",
       "9         Spain       21518           Spain LIGA BBVA\n",
       "10  Switzerland       24558  Switzerland Super League"
      ]
     },
     "execution_count": 11,
     "metadata": {},
     "output_type": "execute_result"
    }
   ],
   "source": [
    "soccer"
   ]
  },
  {
   "cell_type": "code",
   "execution_count": 12,
   "metadata": {},
   "outputs": [],
   "source": [
    "team = pd.read_sql_query(\"SELECT * FROM Team\", engine)"
   ]
  },
  {
   "cell_type": "code",
   "execution_count": 13,
   "metadata": {},
   "outputs": [
    {
     "data": {
      "text/plain": [
       "(299, 5)"
      ]
     },
     "execution_count": 13,
     "metadata": {},
     "output_type": "execute_result"
    }
   ],
   "source": [
    "team.shape"
   ]
  },
  {
   "cell_type": "code",
   "execution_count": 14,
   "metadata": {},
   "outputs": [
    {
     "data": {
      "text/html": [
       "<div>\n",
       "<style scoped>\n",
       "    .dataframe tbody tr th:only-of-type {\n",
       "        vertical-align: middle;\n",
       "    }\n",
       "\n",
       "    .dataframe tbody tr th {\n",
       "        vertical-align: top;\n",
       "    }\n",
       "\n",
       "    .dataframe thead th {\n",
       "        text-align: right;\n",
       "    }\n",
       "</style>\n",
       "<table border=\"1\" class=\"dataframe\">\n",
       "  <thead>\n",
       "    <tr style=\"text-align: right;\">\n",
       "      <th></th>\n",
       "      <th>id</th>\n",
       "      <th>team_api_id</th>\n",
       "      <th>team_fifa_api_id</th>\n",
       "      <th>team_long_name</th>\n",
       "      <th>team_short_name</th>\n",
       "    </tr>\n",
       "  </thead>\n",
       "  <tbody>\n",
       "    <tr>\n",
       "      <th>0</th>\n",
       "      <td>1</td>\n",
       "      <td>9987</td>\n",
       "      <td>673.0</td>\n",
       "      <td>KRC Genk</td>\n",
       "      <td>GEN</td>\n",
       "    </tr>\n",
       "    <tr>\n",
       "      <th>1</th>\n",
       "      <td>2</td>\n",
       "      <td>9993</td>\n",
       "      <td>675.0</td>\n",
       "      <td>Beerschot AC</td>\n",
       "      <td>BAC</td>\n",
       "    </tr>\n",
       "    <tr>\n",
       "      <th>2</th>\n",
       "      <td>3</td>\n",
       "      <td>10000</td>\n",
       "      <td>15005.0</td>\n",
       "      <td>SV Zulte-Waregem</td>\n",
       "      <td>ZUL</td>\n",
       "    </tr>\n",
       "    <tr>\n",
       "      <th>3</th>\n",
       "      <td>4</td>\n",
       "      <td>9994</td>\n",
       "      <td>2007.0</td>\n",
       "      <td>Sporting Lokeren</td>\n",
       "      <td>LOK</td>\n",
       "    </tr>\n",
       "    <tr>\n",
       "      <th>4</th>\n",
       "      <td>5</td>\n",
       "      <td>9984</td>\n",
       "      <td>1750.0</td>\n",
       "      <td>KSV Cercle Brugge</td>\n",
       "      <td>CEB</td>\n",
       "    </tr>\n",
       "  </tbody>\n",
       "</table>\n",
       "</div>"
      ],
      "text/plain": [
       "   id  team_api_id  team_fifa_api_id     team_long_name team_short_name\n",
       "0   1         9987             673.0           KRC Genk             GEN\n",
       "1   2         9993             675.0       Beerschot AC             BAC\n",
       "2   3        10000           15005.0   SV Zulte-Waregem             ZUL\n",
       "3   4         9994            2007.0   Sporting Lokeren             LOK\n",
       "4   5         9984            1750.0  KSV Cercle Brugge             CEB"
      ]
     },
     "execution_count": 14,
     "metadata": {},
     "output_type": "execute_result"
    }
   ],
   "source": [
    "team.head()"
   ]
  },
  {
   "cell_type": "code",
   "execution_count": 15,
   "metadata": {},
   "outputs": [],
   "source": [
    "match = pd.read_sql_query(\"SELECT * FROM Match\", engine)"
   ]
  },
  {
   "cell_type": "code",
   "execution_count": 16,
   "metadata": {},
   "outputs": [
    {
     "data": {
      "text/plain": [
       "(25979, 115)"
      ]
     },
     "execution_count": 16,
     "metadata": {},
     "output_type": "execute_result"
    }
   ],
   "source": [
    "match.shape"
   ]
  },
  {
   "cell_type": "code",
   "execution_count": 17,
   "metadata": {},
   "outputs": [],
   "source": [
    "match = pd.merge(match, team[['team_api_id','team_long_name']], how = 'inner', left_on = 'home_team_api_id', right_on = 'team_api_id')\n"
   ]
  },
  {
   "cell_type": "code",
   "execution_count": 18,
   "metadata": {},
   "outputs": [],
   "source": [
    "match = match.rename(columns = {'team_long_name':'home_team_name'})"
   ]
  },
  {
   "cell_type": "code",
   "execution_count": 19,
   "metadata": {},
   "outputs": [],
   "source": [
    "match = pd.merge(match, team[['team_api_id','team_long_name']], how = 'inner', left_on = 'away_team_api_id', right_on = 'team_api_id')"
   ]
  },
  {
   "cell_type": "code",
   "execution_count": 20,
   "metadata": {},
   "outputs": [],
   "source": [
    "match = match.rename(columns = {'team_long_name':'away_team_name'})"
   ]
  },
  {
   "cell_type": "code",
   "execution_count": 21,
   "metadata": {},
   "outputs": [],
   "source": [
    "match_short = match[['id', 'country_id', 'league_id', 'season', 'stage', 'date', 'match_api_id', 'home_team_api_id',\n",
    " 'away_team_api_id', 'home_team_goal', 'away_team_goal', 'home_team_name', 'away_team_name']]"
   ]
  },
  {
   "cell_type": "code",
   "execution_count": 22,
   "metadata": {},
   "outputs": [
    {
     "data": {
      "text/html": [
       "<div>\n",
       "<style scoped>\n",
       "    .dataframe tbody tr th:only-of-type {\n",
       "        vertical-align: middle;\n",
       "    }\n",
       "\n",
       "    .dataframe tbody tr th {\n",
       "        vertical-align: top;\n",
       "    }\n",
       "\n",
       "    .dataframe thead th {\n",
       "        text-align: right;\n",
       "    }\n",
       "</style>\n",
       "<table border=\"1\" class=\"dataframe\">\n",
       "  <thead>\n",
       "    <tr style=\"text-align: right;\">\n",
       "      <th></th>\n",
       "      <th>id</th>\n",
       "      <th>country_id</th>\n",
       "      <th>league_id</th>\n",
       "      <th>season</th>\n",
       "      <th>stage</th>\n",
       "      <th>date</th>\n",
       "      <th>match_api_id</th>\n",
       "      <th>home_team_api_id</th>\n",
       "      <th>away_team_api_id</th>\n",
       "      <th>home_team_goal</th>\n",
       "      <th>away_team_goal</th>\n",
       "      <th>home_team_name</th>\n",
       "      <th>away_team_name</th>\n",
       "    </tr>\n",
       "  </thead>\n",
       "  <tbody>\n",
       "    <tr>\n",
       "      <th>0</th>\n",
       "      <td>1</td>\n",
       "      <td>1</td>\n",
       "      <td>1</td>\n",
       "      <td>2008/2009</td>\n",
       "      <td>1</td>\n",
       "      <td>2008-08-17 00:00:00</td>\n",
       "      <td>492473</td>\n",
       "      <td>9987</td>\n",
       "      <td>9993</td>\n",
       "      <td>1</td>\n",
       "      <td>1</td>\n",
       "      <td>KRC Genk</td>\n",
       "      <td>Beerschot AC</td>\n",
       "    </tr>\n",
       "    <tr>\n",
       "      <th>1</th>\n",
       "      <td>483</td>\n",
       "      <td>1</td>\n",
       "      <td>1</td>\n",
       "      <td>2009/2010</td>\n",
       "      <td>5</td>\n",
       "      <td>2009-08-30 00:00:00</td>\n",
       "      <td>665353</td>\n",
       "      <td>9987</td>\n",
       "      <td>9993</td>\n",
       "      <td>1</td>\n",
       "      <td>1</td>\n",
       "      <td>KRC Genk</td>\n",
       "      <td>Beerschot AC</td>\n",
       "    </tr>\n",
       "    <tr>\n",
       "      <th>2</th>\n",
       "      <td>524</td>\n",
       "      <td>1</td>\n",
       "      <td>1</td>\n",
       "      <td>2010/2011</td>\n",
       "      <td>1</td>\n",
       "      <td>2010-08-01 00:00:00</td>\n",
       "      <td>838476</td>\n",
       "      <td>9987</td>\n",
       "      <td>9993</td>\n",
       "      <td>2</td>\n",
       "      <td>1</td>\n",
       "      <td>KRC Genk</td>\n",
       "      <td>Beerschot AC</td>\n",
       "    </tr>\n",
       "    <tr>\n",
       "      <th>3</th>\n",
       "      <td>759</td>\n",
       "      <td>1</td>\n",
       "      <td>1</td>\n",
       "      <td>2011/2012</td>\n",
       "      <td>1</td>\n",
       "      <td>2011-07-30 00:00:00</td>\n",
       "      <td>1032694</td>\n",
       "      <td>9987</td>\n",
       "      <td>9993</td>\n",
       "      <td>3</td>\n",
       "      <td>1</td>\n",
       "      <td>KRC Genk</td>\n",
       "      <td>Beerschot AC</td>\n",
       "    </tr>\n",
       "    <tr>\n",
       "      <th>4</th>\n",
       "      <td>1014</td>\n",
       "      <td>1</td>\n",
       "      <td>1</td>\n",
       "      <td>2012/2013</td>\n",
       "      <td>11</td>\n",
       "      <td>2012-10-20 00:00:00</td>\n",
       "      <td>1224064</td>\n",
       "      <td>9987</td>\n",
       "      <td>9993</td>\n",
       "      <td>3</td>\n",
       "      <td>0</td>\n",
       "      <td>KRC Genk</td>\n",
       "      <td>Beerschot AC</td>\n",
       "    </tr>\n",
       "  </tbody>\n",
       "</table>\n",
       "</div>"
      ],
      "text/plain": [
       "     id  country_id  league_id     season  stage                 date  \\\n",
       "0     1           1          1  2008/2009      1  2008-08-17 00:00:00   \n",
       "1   483           1          1  2009/2010      5  2009-08-30 00:00:00   \n",
       "2   524           1          1  2010/2011      1  2010-08-01 00:00:00   \n",
       "3   759           1          1  2011/2012      1  2011-07-30 00:00:00   \n",
       "4  1014           1          1  2012/2013     11  2012-10-20 00:00:00   \n",
       "\n",
       "   match_api_id  home_team_api_id  away_team_api_id  home_team_goal  \\\n",
       "0        492473              9987              9993               1   \n",
       "1        665353              9987              9993               1   \n",
       "2        838476              9987              9993               2   \n",
       "3       1032694              9987              9993               3   \n",
       "4       1224064              9987              9993               3   \n",
       "\n",
       "   away_team_goal home_team_name away_team_name  \n",
       "0               1       KRC Genk   Beerschot AC  \n",
       "1               1       KRC Genk   Beerschot AC  \n",
       "2               1       KRC Genk   Beerschot AC  \n",
       "3               1       KRC Genk   Beerschot AC  \n",
       "4               0       KRC Genk   Beerschot AC  "
      ]
     },
     "execution_count": 22,
     "metadata": {},
     "output_type": "execute_result"
    }
   ],
   "source": [
    "match_short.head()"
   ]
  },
  {
   "cell_type": "code",
   "execution_count": 23,
   "metadata": {},
   "outputs": [],
   "source": [
    "match_short = match_short.merge(soccer, how = 'inner', on = 'country_id')"
   ]
  },
  {
   "cell_type": "code",
   "execution_count": 24,
   "metadata": {},
   "outputs": [],
   "source": [
    "match_short.drop('league_id', axis = 1, inplace = True)"
   ]
  },
  {
   "cell_type": "code",
   "execution_count": 25,
   "metadata": {},
   "outputs": [],
   "source": [
    "def result(score):\n",
    "    if score > 0:\n",
    "        return 'home wins'\n",
    "    elif score < 0:\n",
    "        return 'away wins'\n",
    "    else:\n",
    "        return 'tie'"
   ]
  },
  {
   "cell_type": "code",
   "execution_count": 26,
   "metadata": {},
   "outputs": [],
   "source": [
    "match_short['result'] = (match_short['home_team_goal'] - match_short['away_team_goal']).apply(lambda x: result(x))"
   ]
  },
  {
   "cell_type": "code",
   "execution_count": 28,
   "metadata": {},
   "outputs": [
    {
     "data": {
      "text/plain": [
       "<matplotlib.axes._subplots.AxesSubplot at 0x27e2f25aef0>"
      ]
     },
     "execution_count": 28,
     "metadata": {},
     "output_type": "execute_result"
    },
    {
     "data": {
      "image/png": "[encoded data removed]",
      "text/plain": [
       "<Figure size 432x288 with 1 Axes>"
      ]
     },
     "metadata": {
      "needs_background": "light"
     },
     "output_type": "display_data"
    }
   ],
   "source": [
    "sns.countplot(y = 'league_name', data = match_short)"
   ]
  },
  {
   "cell_type": "code",
   "execution_count": 32,
   "metadata": {},
   "outputs": [],
   "source": [
    "match_short['result'] = pd.Categorical(match_short['result'], ordered = True, categories = ['home wins', 'away wins', 'tie'])"
   ]
  },
  {
   "cell_type": "code",
   "execution_count": 35,
   "metadata": {},
   "outputs": [
    {
     "data": {
      "text/plain": [
       "<matplotlib.axes._subplots.AxesSubplot at 0x27e37dfa128>"
      ]
     },
     "execution_count": 35,
     "metadata": {},
     "output_type": "execute_result"
    },
    {
     "data": {
      "image/png": "[encoded data removed]",
      "text/plain": [
       "<Figure size 432x288 with 1 Axes>"
      ]
     },
     "metadata": {
      "needs_background": "light"
     },
     "output_type": "display_data"
    }
   ],
   "source": [
    "sns.countplot(y = 'result', data = match_short)"
   ]
  },
  {
   "cell_type": "code",
   "execution_count": 40,
   "metadata": {},
   "outputs": [
    {
     "data": {
      "text/html": [
       "<div>\n",
       "<style scoped>\n",
       "    .dataframe tbody tr th:only-of-type {\n",
       "        vertical-align: middle;\n",
       "    }\n",
       "\n",
       "    .dataframe tbody tr th {\n",
       "        vertical-align: top;\n",
       "    }\n",
       "\n",
       "    .dataframe thead th {\n",
       "        text-align: right;\n",
       "    }\n",
       "</style>\n",
       "<table border=\"1\" class=\"dataframe\">\n",
       "  <thead>\n",
       "    <tr style=\"text-align: right;\">\n",
       "      <th></th>\n",
       "      <th></th>\n",
       "      <th>result</th>\n",
       "    </tr>\n",
       "    <tr>\n",
       "      <th>league_name</th>\n",
       "      <th>result</th>\n",
       "      <th></th>\n",
       "    </tr>\n",
       "  </thead>\n",
       "  <tbody>\n",
       "    <tr>\n",
       "      <th rowspan=\"3\" valign=\"top\">Belgium Jupiler League</th>\n",
       "      <th>home wins</th>\n",
       "      <td>46.875000</td>\n",
       "    </tr>\n",
       "    <tr>\n",
       "      <th>away wins</th>\n",
       "      <td>28.530093</td>\n",
       "    </tr>\n",
       "    <tr>\n",
       "      <th>tie</th>\n",
       "      <td>24.594907</td>\n",
       "    </tr>\n",
       "    <tr>\n",
       "      <th rowspan=\"3\" valign=\"top\">England Premier League</th>\n",
       "      <th>home wins</th>\n",
       "      <td>45.723684</td>\n",
       "    </tr>\n",
       "    <tr>\n",
       "      <th>away wins</th>\n",
       "      <td>28.519737</td>\n",
       "    </tr>\n",
       "    <tr>\n",
       "      <th>tie</th>\n",
       "      <td>25.756579</td>\n",
       "    </tr>\n",
       "    <tr>\n",
       "      <th rowspan=\"3\" valign=\"top\">France Ligue 1</th>\n",
       "      <th>home wins</th>\n",
       "      <td>44.703947</td>\n",
       "    </tr>\n",
       "    <tr>\n",
       "      <th>away wins</th>\n",
       "      <td>27.039474</td>\n",
       "    </tr>\n",
       "    <tr>\n",
       "      <th>tie</th>\n",
       "      <td>28.256579</td>\n",
       "    </tr>\n",
       "    <tr>\n",
       "      <th rowspan=\"3\" valign=\"top\">Germany 1. Bundesliga</th>\n",
       "      <th>home wins</th>\n",
       "      <td>45.220588</td>\n",
       "    </tr>\n",
       "    <tr>\n",
       "      <th>away wins</th>\n",
       "      <td>30.392157</td>\n",
       "    </tr>\n",
       "    <tr>\n",
       "      <th>tie</th>\n",
       "      <td>24.387255</td>\n",
       "    </tr>\n",
       "    <tr>\n",
       "      <th rowspan=\"3\" valign=\"top\">Italy Serie A</th>\n",
       "      <th>home wins</th>\n",
       "      <td>46.635731</td>\n",
       "    </tr>\n",
       "    <tr>\n",
       "      <th>away wins</th>\n",
       "      <td>26.980444</td>\n",
       "    </tr>\n",
       "    <tr>\n",
       "      <th>tie</th>\n",
       "      <td>26.383825</td>\n",
       "    </tr>\n",
       "    <tr>\n",
       "      <th rowspan=\"3\" valign=\"top\">Netherlands Eredivisie</th>\n",
       "      <th>home wins</th>\n",
       "      <td>47.834967</td>\n",
       "    </tr>\n",
       "    <tr>\n",
       "      <th>away wins</th>\n",
       "      <td>28.431373</td>\n",
       "    </tr>\n",
       "    <tr>\n",
       "      <th>tie</th>\n",
       "      <td>23.733660</td>\n",
       "    </tr>\n",
       "    <tr>\n",
       "      <th rowspan=\"3\" valign=\"top\">Poland Ekstraklasa</th>\n",
       "      <th>home wins</th>\n",
       "      <td>45.312500</td>\n",
       "    </tr>\n",
       "    <tr>\n",
       "      <th>away wins</th>\n",
       "      <td>27.343750</td>\n",
       "    </tr>\n",
       "    <tr>\n",
       "      <th>tie</th>\n",
       "      <td>27.343750</td>\n",
       "    </tr>\n",
       "    <tr>\n",
       "      <th rowspan=\"3\" valign=\"top\">Portugal Liga ZON Sagres</th>\n",
       "      <th>home wins</th>\n",
       "      <td>44.249513</td>\n",
       "    </tr>\n",
       "    <tr>\n",
       "      <th>away wins</th>\n",
       "      <td>29.775828</td>\n",
       "    </tr>\n",
       "    <tr>\n",
       "      <th>tie</th>\n",
       "      <td>25.974659</td>\n",
       "    </tr>\n",
       "    <tr>\n",
       "      <th rowspan=\"3\" valign=\"top\">Scotland Premier League</th>\n",
       "      <th>home wins</th>\n",
       "      <td>41.666667</td>\n",
       "    </tr>\n",
       "    <tr>\n",
       "      <th>away wins</th>\n",
       "      <td>33.826754</td>\n",
       "    </tr>\n",
       "    <tr>\n",
       "      <th>tie</th>\n",
       "      <td>24.506579</td>\n",
       "    </tr>\n",
       "    <tr>\n",
       "      <th rowspan=\"3\" valign=\"top\">Spain LIGA BBVA</th>\n",
       "      <th>home wins</th>\n",
       "      <td>48.848684</td>\n",
       "    </tr>\n",
       "    <tr>\n",
       "      <th>away wins</th>\n",
       "      <td>27.993421</td>\n",
       "    </tr>\n",
       "    <tr>\n",
       "      <th>tie</th>\n",
       "      <td>23.157895</td>\n",
       "    </tr>\n",
       "    <tr>\n",
       "      <th rowspan=\"3\" valign=\"top\">Switzerland Super League</th>\n",
       "      <th>home wins</th>\n",
       "      <td>45.710267</td>\n",
       "    </tr>\n",
       "    <tr>\n",
       "      <th>away wins</th>\n",
       "      <td>29.957806</td>\n",
       "    </tr>\n",
       "    <tr>\n",
       "      <th>tie</th>\n",
       "      <td>24.331927</td>\n",
       "    </tr>\n",
       "  </tbody>\n",
       "</table>\n",
       "</div>"
      ],
      "text/plain": [
       "                                       result\n",
       "league_name              result              \n",
       "Belgium Jupiler League   home wins  46.875000\n",
       "                         away wins  28.530093\n",
       "                         tie        24.594907\n",
       "England Premier League   home wins  45.723684\n",
       "                         away wins  28.519737\n",
       "                         tie        25.756579\n",
       "France Ligue 1           home wins  44.703947\n",
       "                         away wins  27.039474\n",
       "                         tie        28.256579\n",
       "Germany 1. Bundesliga    home wins  45.220588\n",
       "                         away wins  30.392157\n",
       "                         tie        24.387255\n",
       "Italy Serie A            home wins  46.635731\n",
       "                         away wins  26.980444\n",
       "                         tie        26.383825\n",
       "Netherlands Eredivisie   home wins  47.834967\n",
       "                         away wins  28.431373\n",
       "                         tie        23.733660\n",
       "Poland Ekstraklasa       home wins  45.312500\n",
       "                         away wins  27.343750\n",
       "                         tie        27.343750\n",
       "Portugal Liga ZON Sagres home wins  44.249513\n",
       "                         away wins  29.775828\n",
       "                         tie        25.974659\n",
       "Scotland Premier League  home wins  41.666667\n",
       "                         away wins  33.826754\n",
       "                         tie        24.506579\n",
       "Spain LIGA BBVA          home wins  48.848684\n",
       "                         away wins  27.993421\n",
       "                         tie        23.157895\n",
       "Switzerland Super League home wins  45.710267\n",
       "                         away wins  29.957806\n",
       "                         tie        24.331927"
      ]
     },
     "execution_count": 40,
     "metadata": {},
     "output_type": "execute_result"
    }
   ],
   "source": [
    "#get the percentage of each result for each league\n",
    "match_short.groupby(['league_name', 'result']).agg({'result':'count'}) / match_short.groupby(['league_name']).agg({'result':'count'})*100\n"
   ]
  },
  {
   "cell_type": "code",
   "execution_count": 55,
   "metadata": {},
   "outputs": [],
   "source": [
    "grp = match_short.groupby(['league_name', 'result']).agg({'result':'count'}) / match_short.groupby(['league_name']).agg({'result':'count'})*100"
   ]
  },
  {
   "cell_type": "code",
   "execution_count": 58,
   "metadata": {},
   "outputs": [
    {
     "data": {
      "text/plain": [
       "FrozenList([['Belgium Jupiler League', 'England Premier League', 'France Ligue 1', 'Germany 1. Bundesliga', 'Italy Serie A', 'Netherlands Eredivisie', 'Poland Ekstraklasa', 'Portugal Liga ZON Sagres', 'Scotland Premier League', 'Spain LIGA BBVA', 'Switzerland Super League'], ['home wins', 'away wins', 'tie']])"
      ]
     },
     "execution_count": 58,
     "metadata": {},
     "output_type": "execute_result"
    }
   ],
   "source": [
    "grp.index.levels"
   ]
  },
  {
   "cell_type": "code",
   "execution_count": 79,
   "metadata": {},
   "outputs": [
    {
     "name": "stdout",
     "output_type": "stream",
     "text": [
      "Belgium Jupiler League home wins\n",
      "Belgium Jupiler League away wins\n",
      "Belgium Jupiler League tie\n",
      "England Premier League home wins\n",
      "England Premier League away wins\n",
      "England Premier League tie\n",
      "France Ligue 1 home wins\n",
      "France Ligue 1 away wins\n",
      "France Ligue 1 tie\n",
      "Germany 1. Bundesliga home wins\n",
      "Germany 1. Bundesliga away wins\n",
      "Germany 1. Bundesliga tie\n",
      "Italy Serie A home wins\n",
      "Italy Serie A away wins\n",
      "Italy Serie A tie\n",
      "Netherlands Eredivisie home wins\n",
      "Netherlands Eredivisie away wins\n",
      "Netherlands Eredivisie tie\n",
      "Poland Ekstraklasa home wins\n",
      "Poland Ekstraklasa away wins\n",
      "Poland Ekstraklasa tie\n",
      "Portugal Liga ZON Sagres home wins\n",
      "Portugal Liga ZON Sagres away wins\n",
      "Portugal Liga ZON Sagres tie\n",
      "Scotland Premier League home wins\n",
      "Scotland Premier League away wins\n",
      "Scotland Premier League tie\n",
      "Spain LIGA BBVA home wins\n",
      "Spain LIGA BBVA away wins\n",
      "Spain LIGA BBVA tie\n",
      "Switzerland Super League home wins\n",
      "Switzerland Super League away wins\n",
      "Switzerland Super League tie\n"
     ]
    }
   ],
   "source": [
    "for i in grp.index:\n",
    "    print(i[0], i[1])"
   ]
  },
  {
   "cell_type": "code",
   "execution_count": 113,
   "metadata": {},
   "outputs": [
    {
     "data": {
      "text/plain": [
       "24.59490740740741"
      ]
     },
     "execution_count": 113,
     "metadata": {},
     "output_type": "execute_result"
    }
   ],
   "source": [
    "#access the value of ties in Belgian league\n",
    "grp.loc['Belgium Jupiler League', 'tie'][0]"
   ]
  },
  {
   "cell_type": "code",
   "execution_count": 114,
   "metadata": {},
   "outputs": [],
   "source": [
    "# create a column with the grouped results\n",
    "for league in match_short['league_name'].unique():\n",
    "    for result in match_short['result'].unique():\n",
    "        match_short.loc[(match_short['league_name'] == league) & (match_short['result'] == result), 'share'] = grp.loc[league, result][0]"
   ]
  },
  {
   "cell_type": "code",
   "execution_count": 118,
   "metadata": {},
   "outputs": [
    {
     "data": {
      "text/html": [
       "<div>\n",
       "<style scoped>\n",
       "    .dataframe tbody tr th:only-of-type {\n",
       "        vertical-align: middle;\n",
       "    }\n",
       "\n",
       "    .dataframe tbody tr th {\n",
       "        vertical-align: top;\n",
       "    }\n",
       "\n",
       "    .dataframe thead th {\n",
       "        text-align: right;\n",
       "    }\n",
       "</style>\n",
       "<table border=\"1\" class=\"dataframe\">\n",
       "  <thead>\n",
       "    <tr style=\"text-align: right;\">\n",
       "      <th></th>\n",
       "      <th>id</th>\n",
       "      <th>country_id</th>\n",
       "      <th>season</th>\n",
       "      <th>stage</th>\n",
       "      <th>date</th>\n",
       "      <th>match_api_id</th>\n",
       "      <th>home_team_api_id</th>\n",
       "      <th>away_team_api_id</th>\n",
       "      <th>home_team_goal</th>\n",
       "      <th>away_team_goal</th>\n",
       "      <th>home_team_name</th>\n",
       "      <th>away_team_name</th>\n",
       "      <th>country_name</th>\n",
       "      <th>league_name</th>\n",
       "      <th>result</th>\n",
       "      <th>share</th>\n",
       "    </tr>\n",
       "  </thead>\n",
       "  <tbody>\n",
       "    <tr>\n",
       "      <th>0</th>\n",
       "      <td>1</td>\n",
       "      <td>1</td>\n",
       "      <td>2008/2009</td>\n",
       "      <td>1</td>\n",
       "      <td>2008-08-17 00:00:00</td>\n",
       "      <td>492473</td>\n",
       "      <td>9987</td>\n",
       "      <td>9993</td>\n",
       "      <td>1</td>\n",
       "      <td>1</td>\n",
       "      <td>KRC Genk</td>\n",
       "      <td>Beerschot AC</td>\n",
       "      <td>Belgium</td>\n",
       "      <td>Belgium Jupiler League</td>\n",
       "      <td>tie</td>\n",
       "      <td>24.594907</td>\n",
       "    </tr>\n",
       "    <tr>\n",
       "      <th>1</th>\n",
       "      <td>483</td>\n",
       "      <td>1</td>\n",
       "      <td>2009/2010</td>\n",
       "      <td>5</td>\n",
       "      <td>2009-08-30 00:00:00</td>\n",
       "      <td>665353</td>\n",
       "      <td>9987</td>\n",
       "      <td>9993</td>\n",
       "      <td>1</td>\n",
       "      <td>1</td>\n",
       "      <td>KRC Genk</td>\n",
       "      <td>Beerschot AC</td>\n",
       "      <td>Belgium</td>\n",
       "      <td>Belgium Jupiler League</td>\n",
       "      <td>tie</td>\n",
       "      <td>24.594907</td>\n",
       "    </tr>\n",
       "    <tr>\n",
       "      <th>2</th>\n",
       "      <td>524</td>\n",
       "      <td>1</td>\n",
       "      <td>2010/2011</td>\n",
       "      <td>1</td>\n",
       "      <td>2010-08-01 00:00:00</td>\n",
       "      <td>838476</td>\n",
       "      <td>9987</td>\n",
       "      <td>9993</td>\n",
       "      <td>2</td>\n",
       "      <td>1</td>\n",
       "      <td>KRC Genk</td>\n",
       "      <td>Beerschot AC</td>\n",
       "      <td>Belgium</td>\n",
       "      <td>Belgium Jupiler League</td>\n",
       "      <td>home wins</td>\n",
       "      <td>46.875000</td>\n",
       "    </tr>\n",
       "    <tr>\n",
       "      <th>3</th>\n",
       "      <td>759</td>\n",
       "      <td>1</td>\n",
       "      <td>2011/2012</td>\n",
       "      <td>1</td>\n",
       "      <td>2011-07-30 00:00:00</td>\n",
       "      <td>1032694</td>\n",
       "      <td>9987</td>\n",
       "      <td>9993</td>\n",
       "      <td>3</td>\n",
       "      <td>1</td>\n",
       "      <td>KRC Genk</td>\n",
       "      <td>Beerschot AC</td>\n",
       "      <td>Belgium</td>\n",
       "      <td>Belgium Jupiler League</td>\n",
       "      <td>home wins</td>\n",
       "      <td>46.875000</td>\n",
       "    </tr>\n",
       "    <tr>\n",
       "      <th>4</th>\n",
       "      <td>1014</td>\n",
       "      <td>1</td>\n",
       "      <td>2012/2013</td>\n",
       "      <td>11</td>\n",
       "      <td>2012-10-20 00:00:00</td>\n",
       "      <td>1224064</td>\n",
       "      <td>9987</td>\n",
       "      <td>9993</td>\n",
       "      <td>3</td>\n",
       "      <td>0</td>\n",
       "      <td>KRC Genk</td>\n",
       "      <td>Beerschot AC</td>\n",
       "      <td>Belgium</td>\n",
       "      <td>Belgium Jupiler League</td>\n",
       "      <td>home wins</td>\n",
       "      <td>46.875000</td>\n",
       "    </tr>\n",
       "  </tbody>\n",
       "</table>\n",
       "</div>"
      ],
      "text/plain": [
       "     id  country_id     season  stage                 date  match_api_id  \\\n",
       "0     1           1  2008/2009      1  2008-08-17 00:00:00        492473   \n",
       "1   483           1  2009/2010      5  2009-08-30 00:00:00        665353   \n",
       "2   524           1  2010/2011      1  2010-08-01 00:00:00        838476   \n",
       "3   759           1  2011/2012      1  2011-07-30 00:00:00       1032694   \n",
       "4  1014           1  2012/2013     11  2012-10-20 00:00:00       1224064   \n",
       "\n",
       "   home_team_api_id  away_team_api_id  home_team_goal  away_team_goal  \\\n",
       "0              9987              9993               1               1   \n",
       "1              9987              9993               1               1   \n",
       "2              9987              9993               2               1   \n",
       "3              9987              9993               3               1   \n",
       "4              9987              9993               3               0   \n",
       "\n",
       "  home_team_name away_team_name country_name             league_name  \\\n",
       "0       KRC Genk   Beerschot AC      Belgium  Belgium Jupiler League   \n",
       "1       KRC Genk   Beerschot AC      Belgium  Belgium Jupiler League   \n",
       "2       KRC Genk   Beerschot AC      Belgium  Belgium Jupiler League   \n",
       "3       KRC Genk   Beerschot AC      Belgium  Belgium Jupiler League   \n",
       "4       KRC Genk   Beerschot AC      Belgium  Belgium Jupiler League   \n",
       "\n",
       "      result      share  \n",
       "0        tie  24.594907  \n",
       "1        tie  24.594907  \n",
       "2  home wins  46.875000  \n",
       "3  home wins  46.875000  \n",
       "4  home wins  46.875000  "
      ]
     },
     "execution_count": 118,
     "metadata": {},
     "output_type": "execute_result"
    }
   ],
   "source": [
    "match_short.head()"
   ]
  },
  {
   "cell_type": "code",
   "execution_count": 120,
   "metadata": {},
   "outputs": [
    {
     "data": {
      "text/plain": [
       "<matplotlib.axes._subplots.AxesSubplot at 0x27e3e8d1d68>"
      ]
     },
     "execution_count": 120,
     "metadata": {},
     "output_type": "execute_result"
    },
    {
     "data": {
      "image/png": "[encoded data removed]",
      "text/plain": [
       "<Figure size 432x288 with 1 Axes>"
      ]
     },
     "metadata": {
      "needs_background": "light"
     },
     "output_type": "display_data"
    }
   ],
   "source": [
    "sns.barplot(x = 'league_name', y = 'share', hue = 'result', data = match_short)"
   ]
  },
  {
   "cell_type": "code",
   "execution_count": 89,
   "metadata": {},
   "outputs": [
    {
     "data": {
      "text/plain": [
       "<matplotlib.axes._subplots.AxesSubplot at 0x19279ff5cf8>"
      ]
     },
     "execution_count": 89,
     "metadata": {},
     "output_type": "execute_result"
    },
    {
     "data": {
      "image/png": "[encoded data removed]",
      "text/plain": [
       "<Figure size 432x288 with 1 Axes>"
      ]
     },
     "metadata": {
      "needs_background": "light"
     },
     "output_type": "display_data"
    }
   ],
   "source": [
    "grp.unstack(level = 1).plot(kind = 'bar', width = 0.8, color = ['g', 'r', 'b'])"
   ]
  }
 ],
 "metadata": {
  "kernelspec": {
   "display_name": "Python 3",
   "language": "python",
   "name": "python3"
  },
  "language_info": {
   "codemirror_mode": {
    "name": "ipython",
    "version": 3
   },
   "file_extension": ".py",
   "mimetype": "text/x-python",
   "name": "python",
   "nbconvert_exporter": "python",
   "pygments_lexer": "ipython3",
   "version": "3.7.2"
  }
 },
 "nbformat": 4,
 "nbformat_minor": 2
}
