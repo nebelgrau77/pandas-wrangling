{
 "cells": [
  {
   "cell_type": "code",
   "execution_count": 7,
   "metadata": {},
   "outputs": [],
   "source": [
    "# piece of HTML code copied from a website\n",
    "\n",
    "content = '''<h2>Best-Selling Car Manufacturers in Europe in 2018</h2>\n",
    "<p>The largest carmakers and marques in the European Union and EFTA in 2018 according to the ACEA \n",
    "were as follows:</p><table class=\"wp-block-table is-style-stripes\"><tbody><tr><td>Carmaker</td><td>\n",
    "<a href=\"https://www.best-selling-cars.com/europe/2018-full-year-europe-best-selling-car-manufacturers-and-brands/\">\n",
    "FY2018</a></td><td><a href=\"https://www.best-selling-cars.com/europe/2017-full-year-europe-best-selling-car-manufacturers-and-brands/\" \n",
    "target=\"_blank\" rel=\"noreferrer noopener\">FY2017</a></td><td>% 17/18</td><td>Share 18</td></tr><tr><td>\n",
    "EU &amp; EFTA</td><td>15,624,486</td><td>15,630,555</td><td>-0.04</td><td>100</td></tr><tr><td>VW Group</td><td>\n",
    "3,733,427</td><td>3,717,478</td><td>+0.4</td><td>23.9</td></tr><tr><td>&#8211; VOLKSWAGEN</td><td>1,752,162</td><td>1,706,431</td><td>+2.7</td><td>11.2</td></tr><tr><td>&#8211; AUDI</td><td>724,168</td><td>826,394</td><td>-12.4</td><td>4.6</td></tr><tr><td>&#8211; SKODA</td><td>729,224</td><td>705,232</td><td>+3.4</td><td>4.7</td></tr><tr><td>&#8211; SEAT</td><td>452,372</td><td>401,028</td><td>+12.8</td><td>2.9</td></tr><tr><td>&#8211; PORSCHE</td><td>70,504</td><td>73,397</td><td>-3.9</td><td>0.5</td></tr><tr><td>PSA Group</td><td>2,499,522</td><td>1,885,867</td><td>+32.5</td><td>16.0</td></tr><tr><td>&#8211; PEUGEOT</td><td>971,437</td><td>924,953</td><td>+5.0</td><td>6.2</td></tr><tr><td>&#8211; CITROEN</td><td>598,254</td><td>569,822</td><td>+5.0</td><td>3.8</td></tr><tr><td>&#8211; Opel / Vauxhall (PSA)</td><td>884,412</td><td>345,218</td><td>+156.2</td><td>5.7</td></tr><tr><td>&#8211; DS</td><td>45,419</td><td>45,874</td><td>-1.0</td><td>0.3</td></tr><tr><td>RENAULT Group</td><td>1,641,156</td><td>1,628,702</td><td>+0.8</td><td>10.5</td></tr><tr><td>&#8211; RENAULT</td><td>1,105,778</td><td>1,150,686</td><td>-3.9</td><td>7.1</td></tr><tr><td>&#8211; DACIA</td><td>528,249</td><td>472,816</td><td>+11.7</td><td>3.4</td></tr><tr><td>BMW Group</td><td>1,033,221</td><td>1,043,217</td><td>-1.0</td><td>6.6</td></tr><tr><td>&#8211; BMW</td><td>815,179</td><td>827,755</td><td>-1.5</td><td>5.2</td></tr><tr><td>&#8211; MINI</td><td>218,042</td><td>215,462</td><td>+1.2</td><td>1.4</td></tr><tr><td>FCA Group</td><td>1,021,311</td><td>1,045,074</td><td>-2.3</td><td>6.5</td></tr><tr><td>&#8211; FIAT</td><td>711,285</td><td>779,522</td><td>-8.8</td><td>4.6</td></tr><tr><td>&#8211; JEEP</td><td>168,674</td><td>108,431</td><td>+55.6</td><td>1.1</td></tr><tr><td>&#8211; ALFA ROMEO</td><td>82,939</td><td>85,833</td><td>-3.4</td><td>0.5</td></tr><tr><td>&#8211; LANCIA/CHRYSLER</td><td>48,854</td><td>60,885</td><td>-19.8</td><td>0.3</td></tr><tr><td>FORD</td><td>994,397</td><td>1,018,436</td><td>-2.4</td><td>6.4</td></tr><tr><td>DAIMLER</td><td>970,187</td><td>992,528</td><td>-2.3</td><td>6.2</td></tr><tr><td>&#8211; MERCEDES</td><td>871,221</td><td>893,574</td><td>-2.5</td><td>5.6</td></tr><tr><td>&#8211; SMART</td><td>98,966</td><td>98,954</td><td>+0.0</td><td>0.6</td></tr><tr><td>TOYOTA Group</td><td>760,069</td><td>732,290</td><td>+3.8</td><td>4.9</td></tr><tr><td>&#8211; TOYOTA</td><td>713,374</td><td>686,757</td><td>+3.9</td><td>4.6</td></tr><tr><td>&#8211; LEXUS</td><td>46,695</td><td>45,533</td><td>+2.6</td><td>0.3</td></tr><tr><td>HYUNDAI</td><td>543,292</td><td>523,047</td><td>+3.9</td><td>3.5</td></tr><tr><td>KIA</td><td>494,304</td><td>472,125</td><td>+4.7</td><td>3.2</td></tr><tr><td>NISSAN</td><td>493,862</td><td>566,516</td><td>-12.8</td><td>3.2</td></tr><tr><td>VOLVO CAR CORP.</td><td>320,071</td><td>301,603</td><td>+6.1</td><td>2.0</td></tr><tr><td>JAGUAR LAND ROVER Group</td><td>214,188</td><td>221,039</td><td>-3.1</td><td>1.4</td></tr><tr><td>&#8211; LAND ROVER</td><td>130,369</td><td>151,566</td><td>-14.0</td><td>0.8</td></tr><tr><td>&#8211; JAGUAR</td><td>83,819</td><td>69,473</td><td>+20.6</td><td>0.5</td></tr><tr><td>HONDA</td><td>135,584</td><td>140,418</td><td>-3.4</td><td>0.9</td></tr><tr><td>GM</td><td>3,301</td><td>600,996</td><td>-99.5</td><td>0.0</td></tr><tr><td><a href=\"http://acea.be\" target=\"_blank\" rel=\"noreferrer noopener\">Source: ACEA</a></td></tr></tbody></table>'''\n"
   ]
  },
  {
   "cell_type": "code",
   "execution_count": 8,
   "metadata": {},
   "outputs": [],
   "source": [
    "import re"
   ]
  },
  {
   "cell_type": "code",
   "execution_count": 136,
   "metadata": {},
   "outputs": [],
   "source": [
    "# find all the car brands\n",
    "\n",
    "brands = re.findall('(?<=</tr><tr><td>).+?(?=</td><td>)', content)\n"
   ]
  },
  {
   "cell_type": "code",
   "execution_count": 176,
   "metadata": {},
   "outputs": [
    {
     "data": {
      "text/plain": [
       "['EU &amp; EFTA',\n",
       " 'VW Group',\n",
       " '&#8211; VOLKSWAGEN',\n",
       " '&#8211; AUDI',\n",
       " '&#8211; SKODA',\n",
       " '&#8211; SEAT',\n",
       " '&#8211; PORSCHE',\n",
       " 'PSA Group',\n",
       " '&#8211; PEUGEOT',\n",
       " '&#8211; CITROEN',\n",
       " '&#8211; Opel / Vauxhall ',\n",
       " '&#8211; DS',\n",
       " 'RENAULT Group',\n",
       " '&#8211; RENAULT',\n",
       " '&#8211; DACIA',\n",
       " 'BMW Group',\n",
       " '&#8211; BMW',\n",
       " '&#8211; MINI',\n",
       " 'FCA Group',\n",
       " '&#8211; FIAT',\n",
       " '&#8211; JEEP',\n",
       " '&#8211; ALFA ROMEO',\n",
       " '&#8211; LANCIA/CHRYSLER',\n",
       " 'FORD',\n",
       " 'DAIMLER',\n",
       " '&#8211; MERCEDES',\n",
       " '&#8211; SMART',\n",
       " 'TOYOTA Group',\n",
       " '&#8211; TOYOTA',\n",
       " '&#8211; LEXUS',\n",
       " 'HYUNDAI',\n",
       " 'KIA',\n",
       " 'NISSAN',\n",
       " 'VOLVO CAR CORP.',\n",
       " 'JAGUAR LAND ROVER Group',\n",
       " '&#8211; LAND ROVER',\n",
       " '&#8211; JAGUAR',\n",
       " 'HONDA',\n",
       " 'GM']"
      ]
     },
     "execution_count": 176,
     "metadata": {},
     "output_type": "execute_result"
    }
   ],
   "source": [
    "# some of the 'brands' are actually groups\n",
    "\n",
    "brands"
   ]
  },
  {
   "cell_type": "code",
   "execution_count": 184,
   "metadata": {},
   "outputs": [],
   "source": [
    "# eliminate non-brands and groups\n",
    "\n",
    "brands2 = [brand for brand in brands if 'Group' not in brand and 'EFTA' not in brand]"
   ]
  },
  {
   "cell_type": "code",
   "execution_count": 112,
   "metadata": {},
   "outputs": [],
   "source": [
    "content = content.replace('(PSA)','')"
   ]
  },
  {
   "cell_type": "code",
   "execution_count": 152,
   "metadata": {},
   "outputs": [],
   "source": [
    "import pandas as pd"
   ]
  },
  {
   "cell_type": "code",
   "execution_count": 186,
   "metadata": {},
   "outputs": [],
   "source": [
    "# create a dataframe and fill it with the data extracted from HTML\n",
    "\n",
    "columns = ['brand', 'FY2018', 'FY2017', 'delta % 2017/2018', 'share']\n",
    "df = pd.DataFrame(columns = columns)\n",
    "cols = dict(zip(range(5), columns))\n",
    "\n",
    "for row, brand in enumerate(brands2):\n",
    "    pattern = '(?<='+brand+').+?(?=</tr><tr><td>)' #gets the line following each brand\n",
    "    \n",
    "    df.loc[row, 'brand'] = brand\n",
    "    line = re.findall(pattern, content) \n",
    "    numbers = re.findall('(?<=<td>).+?(?=</td>)', line[0]) #gets all the numbers in the line\n",
    "    numbers = [float(number.replace(',','')) for number in numbers] # split, replace commas and convert\n",
    "    for n in range(len(numbers)):\n",
    "        df.loc[row,cols[n+1]] = numbers[n]\n"
   ]
  },
  {
   "cell_type": "code",
   "execution_count": 187,
   "metadata": {},
   "outputs": [
    {
     "data": {
      "text/html": [
       "<div>\n",
       "<style scoped>\n",
       "    .dataframe tbody tr th:only-of-type {\n",
       "        vertical-align: middle;\n",
       "    }\n",
       "\n",
       "    .dataframe tbody tr th {\n",
       "        vertical-align: top;\n",
       "    }\n",
       "\n",
       "    .dataframe thead th {\n",
       "        text-align: right;\n",
       "    }\n",
       "</style>\n",
       "<table border=\"1\" class=\"dataframe\">\n",
       "  <thead>\n",
       "    <tr style=\"text-align: right;\">\n",
       "      <th></th>\n",
       "      <th>brand</th>\n",
       "      <th>FY2018</th>\n",
       "      <th>FY2017</th>\n",
       "      <th>delta % 2017/2018</th>\n",
       "      <th>share</th>\n",
       "    </tr>\n",
       "  </thead>\n",
       "  <tbody>\n",
       "    <tr>\n",
       "      <th>0</th>\n",
       "      <td>&amp;#8211; VOLKSWAGEN</td>\n",
       "      <td>1.75216e+06</td>\n",
       "      <td>1.70643e+06</td>\n",
       "      <td>2.7</td>\n",
       "      <td>11.2</td>\n",
       "    </tr>\n",
       "    <tr>\n",
       "      <th>1</th>\n",
       "      <td>&amp;#8211; AUDI</td>\n",
       "      <td>724168</td>\n",
       "      <td>826394</td>\n",
       "      <td>-12.4</td>\n",
       "      <td>4.6</td>\n",
       "    </tr>\n",
       "    <tr>\n",
       "      <th>2</th>\n",
       "      <td>&amp;#8211; SKODA</td>\n",
       "      <td>729224</td>\n",
       "      <td>705232</td>\n",
       "      <td>3.4</td>\n",
       "      <td>4.7</td>\n",
       "    </tr>\n",
       "    <tr>\n",
       "      <th>3</th>\n",
       "      <td>&amp;#8211; SEAT</td>\n",
       "      <td>452372</td>\n",
       "      <td>401028</td>\n",
       "      <td>12.8</td>\n",
       "      <td>2.9</td>\n",
       "    </tr>\n",
       "    <tr>\n",
       "      <th>4</th>\n",
       "      <td>&amp;#8211; PORSCHE</td>\n",
       "      <td>70504</td>\n",
       "      <td>73397</td>\n",
       "      <td>-3.9</td>\n",
       "      <td>0.5</td>\n",
       "    </tr>\n",
       "    <tr>\n",
       "      <th>5</th>\n",
       "      <td>&amp;#8211; PEUGEOT</td>\n",
       "      <td>971437</td>\n",
       "      <td>924953</td>\n",
       "      <td>5</td>\n",
       "      <td>6.2</td>\n",
       "    </tr>\n",
       "    <tr>\n",
       "      <th>6</th>\n",
       "      <td>&amp;#8211; CITROEN</td>\n",
       "      <td>598254</td>\n",
       "      <td>569822</td>\n",
       "      <td>5</td>\n",
       "      <td>3.8</td>\n",
       "    </tr>\n",
       "    <tr>\n",
       "      <th>7</th>\n",
       "      <td>&amp;#8211; Opel / Vauxhall</td>\n",
       "      <td>884412</td>\n",
       "      <td>345218</td>\n",
       "      <td>156.2</td>\n",
       "      <td>5.7</td>\n",
       "    </tr>\n",
       "    <tr>\n",
       "      <th>8</th>\n",
       "      <td>&amp;#8211; DS</td>\n",
       "      <td>45419</td>\n",
       "      <td>45874</td>\n",
       "      <td>-1</td>\n",
       "      <td>0.3</td>\n",
       "    </tr>\n",
       "    <tr>\n",
       "      <th>9</th>\n",
       "      <td>&amp;#8211; RENAULT</td>\n",
       "      <td>1.10578e+06</td>\n",
       "      <td>1.15069e+06</td>\n",
       "      <td>-3.9</td>\n",
       "      <td>7.1</td>\n",
       "    </tr>\n",
       "    <tr>\n",
       "      <th>10</th>\n",
       "      <td>&amp;#8211; DACIA</td>\n",
       "      <td>528249</td>\n",
       "      <td>472816</td>\n",
       "      <td>11.7</td>\n",
       "      <td>3.4</td>\n",
       "    </tr>\n",
       "    <tr>\n",
       "      <th>11</th>\n",
       "      <td>&amp;#8211; BMW</td>\n",
       "      <td>815179</td>\n",
       "      <td>827755</td>\n",
       "      <td>-1.5</td>\n",
       "      <td>5.2</td>\n",
       "    </tr>\n",
       "    <tr>\n",
       "      <th>12</th>\n",
       "      <td>&amp;#8211; MINI</td>\n",
       "      <td>218042</td>\n",
       "      <td>215462</td>\n",
       "      <td>1.2</td>\n",
       "      <td>1.4</td>\n",
       "    </tr>\n",
       "    <tr>\n",
       "      <th>13</th>\n",
       "      <td>&amp;#8211; FIAT</td>\n",
       "      <td>711285</td>\n",
       "      <td>779522</td>\n",
       "      <td>-8.8</td>\n",
       "      <td>4.6</td>\n",
       "    </tr>\n",
       "    <tr>\n",
       "      <th>14</th>\n",
       "      <td>&amp;#8211; JEEP</td>\n",
       "      <td>168674</td>\n",
       "      <td>108431</td>\n",
       "      <td>55.6</td>\n",
       "      <td>1.1</td>\n",
       "    </tr>\n",
       "    <tr>\n",
       "      <th>15</th>\n",
       "      <td>&amp;#8211; ALFA ROMEO</td>\n",
       "      <td>82939</td>\n",
       "      <td>85833</td>\n",
       "      <td>-3.4</td>\n",
       "      <td>0.5</td>\n",
       "    </tr>\n",
       "    <tr>\n",
       "      <th>16</th>\n",
       "      <td>&amp;#8211; LANCIA/CHRYSLER</td>\n",
       "      <td>48854</td>\n",
       "      <td>60885</td>\n",
       "      <td>-19.8</td>\n",
       "      <td>0.3</td>\n",
       "    </tr>\n",
       "    <tr>\n",
       "      <th>17</th>\n",
       "      <td>FORD</td>\n",
       "      <td>994397</td>\n",
       "      <td>1.01844e+06</td>\n",
       "      <td>-2.4</td>\n",
       "      <td>6.4</td>\n",
       "    </tr>\n",
       "    <tr>\n",
       "      <th>18</th>\n",
       "      <td>DAIMLER</td>\n",
       "      <td>970187</td>\n",
       "      <td>992528</td>\n",
       "      <td>-2.3</td>\n",
       "      <td>6.2</td>\n",
       "    </tr>\n",
       "    <tr>\n",
       "      <th>19</th>\n",
       "      <td>&amp;#8211; MERCEDES</td>\n",
       "      <td>871221</td>\n",
       "      <td>893574</td>\n",
       "      <td>-2.5</td>\n",
       "      <td>5.6</td>\n",
       "    </tr>\n",
       "    <tr>\n",
       "      <th>20</th>\n",
       "      <td>&amp;#8211; SMART</td>\n",
       "      <td>98966</td>\n",
       "      <td>98954</td>\n",
       "      <td>0</td>\n",
       "      <td>0.6</td>\n",
       "    </tr>\n",
       "    <tr>\n",
       "      <th>21</th>\n",
       "      <td>&amp;#8211; TOYOTA</td>\n",
       "      <td>713374</td>\n",
       "      <td>686757</td>\n",
       "      <td>3.9</td>\n",
       "      <td>4.6</td>\n",
       "    </tr>\n",
       "    <tr>\n",
       "      <th>22</th>\n",
       "      <td>&amp;#8211; LEXUS</td>\n",
       "      <td>46695</td>\n",
       "      <td>45533</td>\n",
       "      <td>2.6</td>\n",
       "      <td>0.3</td>\n",
       "    </tr>\n",
       "    <tr>\n",
       "      <th>23</th>\n",
       "      <td>HYUNDAI</td>\n",
       "      <td>543292</td>\n",
       "      <td>523047</td>\n",
       "      <td>3.9</td>\n",
       "      <td>3.5</td>\n",
       "    </tr>\n",
       "    <tr>\n",
       "      <th>24</th>\n",
       "      <td>KIA</td>\n",
       "      <td>494304</td>\n",
       "      <td>472125</td>\n",
       "      <td>4.7</td>\n",
       "      <td>3.2</td>\n",
       "    </tr>\n",
       "    <tr>\n",
       "      <th>25</th>\n",
       "      <td>NISSAN</td>\n",
       "      <td>493862</td>\n",
       "      <td>566516</td>\n",
       "      <td>-12.8</td>\n",
       "      <td>3.2</td>\n",
       "    </tr>\n",
       "    <tr>\n",
       "      <th>26</th>\n",
       "      <td>VOLVO CAR CORP.</td>\n",
       "      <td>320071</td>\n",
       "      <td>301603</td>\n",
       "      <td>6.1</td>\n",
       "      <td>2</td>\n",
       "    </tr>\n",
       "    <tr>\n",
       "      <th>27</th>\n",
       "      <td>&amp;#8211; LAND ROVER</td>\n",
       "      <td>130369</td>\n",
       "      <td>151566</td>\n",
       "      <td>-14</td>\n",
       "      <td>0.8</td>\n",
       "    </tr>\n",
       "    <tr>\n",
       "      <th>28</th>\n",
       "      <td>&amp;#8211; JAGUAR</td>\n",
       "      <td>83819</td>\n",
       "      <td>69473</td>\n",
       "      <td>20.6</td>\n",
       "      <td>0.5</td>\n",
       "    </tr>\n",
       "    <tr>\n",
       "      <th>29</th>\n",
       "      <td>HONDA</td>\n",
       "      <td>135584</td>\n",
       "      <td>140418</td>\n",
       "      <td>-3.4</td>\n",
       "      <td>0.9</td>\n",
       "    </tr>\n",
       "    <tr>\n",
       "      <th>30</th>\n",
       "      <td>GM</td>\n",
       "      <td>3301</td>\n",
       "      <td>600996</td>\n",
       "      <td>-99.5</td>\n",
       "      <td>0</td>\n",
       "    </tr>\n",
       "  </tbody>\n",
       "</table>\n",
       "</div>"
      ],
      "text/plain": [
       "                       brand       FY2018       FY2017 delta % 2017/2018 share\n",
       "0         &#8211; VOLKSWAGEN  1.75216e+06  1.70643e+06               2.7  11.2\n",
       "1               &#8211; AUDI       724168       826394             -12.4   4.6\n",
       "2              &#8211; SKODA       729224       705232               3.4   4.7\n",
       "3               &#8211; SEAT       452372       401028              12.8   2.9\n",
       "4            &#8211; PORSCHE        70504        73397              -3.9   0.5\n",
       "5            &#8211; PEUGEOT       971437       924953                 5   6.2\n",
       "6            &#8211; CITROEN       598254       569822                 5   3.8\n",
       "7   &#8211; Opel / Vauxhall        884412       345218             156.2   5.7\n",
       "8                 &#8211; DS        45419        45874                -1   0.3\n",
       "9            &#8211; RENAULT  1.10578e+06  1.15069e+06              -3.9   7.1\n",
       "10             &#8211; DACIA       528249       472816              11.7   3.4\n",
       "11               &#8211; BMW       815179       827755              -1.5   5.2\n",
       "12              &#8211; MINI       218042       215462               1.2   1.4\n",
       "13              &#8211; FIAT       711285       779522              -8.8   4.6\n",
       "14              &#8211; JEEP       168674       108431              55.6   1.1\n",
       "15        &#8211; ALFA ROMEO        82939        85833              -3.4   0.5\n",
       "16   &#8211; LANCIA/CHRYSLER        48854        60885             -19.8   0.3\n",
       "17                      FORD       994397  1.01844e+06              -2.4   6.4\n",
       "18                   DAIMLER       970187       992528              -2.3   6.2\n",
       "19          &#8211; MERCEDES       871221       893574              -2.5   5.6\n",
       "20             &#8211; SMART        98966        98954                 0   0.6\n",
       "21            &#8211; TOYOTA       713374       686757               3.9   4.6\n",
       "22             &#8211; LEXUS        46695        45533               2.6   0.3\n",
       "23                   HYUNDAI       543292       523047               3.9   3.5\n",
       "24                       KIA       494304       472125               4.7   3.2\n",
       "25                    NISSAN       493862       566516             -12.8   3.2\n",
       "26           VOLVO CAR CORP.       320071       301603               6.1     2\n",
       "27        &#8211; LAND ROVER       130369       151566               -14   0.8\n",
       "28            &#8211; JAGUAR        83819        69473              20.6   0.5\n",
       "29                     HONDA       135584       140418              -3.4   0.9\n",
       "30                        GM         3301       600996             -99.5     0"
      ]
     },
     "execution_count": 187,
     "metadata": {},
     "output_type": "execute_result"
    }
   ],
   "source": [
    "df"
   ]
  },
  {
   "cell_type": "code",
   "execution_count": 189,
   "metadata": {},
   "outputs": [],
   "source": [
    "df['brand'] = df['brand'].apply(lambda x: x.replace('&#8211; ', '')) # clean up the names"
   ]
  },
  {
   "cell_type": "code",
   "execution_count": 191,
   "metadata": {},
   "outputs": [
    {
     "data": {
      "text/plain": [
       "array(['VOLKSWAGEN', 'AUDI', 'SKODA', 'SEAT', 'PORSCHE', 'PEUGEOT',\n",
       "       'CITROEN', 'Opel / Vauxhall ', 'DS', 'RENAULT', 'DACIA', 'BMW',\n",
       "       'MINI', 'FIAT', 'JEEP', 'ALFA ROMEO', 'LANCIA/CHRYSLER', 'FORD',\n",
       "       'DAIMLER', 'MERCEDES', 'SMART', 'TOYOTA', 'LEXUS', 'HYUNDAI',\n",
       "       'KIA', 'NISSAN', 'VOLVO CAR CORP.', 'LAND ROVER', 'JAGUAR',\n",
       "       'HONDA', 'GM'], dtype=object)"
      ]
     },
     "execution_count": 191,
     "metadata": {},
     "output_type": "execute_result"
    }
   ],
   "source": [
    "df['brand'].unique()"
   ]
  },
  {
   "cell_type": "code",
   "execution_count": 197,
   "metadata": {},
   "outputs": [],
   "source": [
    "# add information about the group every brand belongs to\n",
    "\n",
    "groups = {'VW Group': ['VOLKSWAGEN', 'AUDI', 'SKODA', 'SEAT', 'PORSCHE'], 'PSA':['PEUGEOT',\n",
    "       'CITROEN', 'Opel / Vauxhall ', 'DS'], 'Renault-Nissan':['RENAULT', 'DACIA', 'NISSAN'], 'BMW Group':['BMW',\n",
    "       'MINI'], 'FCA':['FIAT', 'JEEP', 'ALFA ROMEO', 'LANCIA/CHRYSLER'], 'Ford':['FORD'],\n",
    "       'Daimler Group': ['DAIMLER', 'MERCEDES', 'SMART'], 'Toyota':['TOYOTA', 'LEXUS'], 'Hyundai-Kia':['HYUNDAI',\n",
    "       'KIA'], 'Volvo':['VOLVO CAR CORP.'], 'JLR Group': ['LAND ROVER', 'JAGUAR'],\n",
    "       'Honda':['HONDA'], 'GM':['GM']}"
   ]
  },
  {
   "cell_type": "code",
   "execution_count": 206,
   "metadata": {},
   "outputs": [],
   "source": [
    "group_list = [(key, value) for key, value in groups.items()]"
   ]
  },
  {
   "cell_type": "code",
   "execution_count": 210,
   "metadata": {},
   "outputs": [],
   "source": [
    "# convert the above to a dictionary usable for further work\n",
    "\n",
    "brand_groups = dict()\n",
    "for group in group_list:\n",
    "    for brand in group[1]:\n",
    "        brand_groups[brand] = group[0]"
   ]
  },
  {
   "cell_type": "code",
   "execution_count": 390,
   "metadata": {},
   "outputs": [
    {
     "data": {
      "text/plain": [
       "{'VOLKSWAGEN': 'VW Group',\n",
       " 'AUDI': 'VW Group',\n",
       " 'SKODA': 'VW Group',\n",
       " 'SEAT': 'VW Group',\n",
       " 'PORSCHE': 'VW Group',\n",
       " 'PEUGEOT': 'PSA',\n",
       " 'CITROEN': 'PSA',\n",
       " 'Opel / Vauxhall ': 'PSA',\n",
       " 'DS': 'PSA',\n",
       " 'RENAULT': 'Renault-Nissan',\n",
       " 'DACIA': 'Renault-Nissan',\n",
       " 'NISSAN': 'Renault-Nissan',\n",
       " 'BMW': 'BMW Group',\n",
       " 'MINI': 'BMW Group',\n",
       " 'FIAT': 'FCA',\n",
       " 'JEEP': 'FCA',\n",
       " 'ALFA ROMEO': 'FCA',\n",
       " 'LANCIA/CHRYSLER': 'FCA',\n",
       " 'FORD': 'Ford',\n",
       " 'DAIMLER': 'Daimler Group',\n",
       " 'MERCEDES': 'Daimler Group',\n",
       " 'SMART': 'Daimler Group',\n",
       " 'TOYOTA': 'Toyota',\n",
       " 'LEXUS': 'Toyota',\n",
       " 'HYUNDAI': 'Hyundai-Kia',\n",
       " 'KIA': 'Hyundai-Kia',\n",
       " 'VOLVO CAR CORP.': 'Volvo',\n",
       " 'LAND ROVER': 'JLR Group',\n",
       " 'JAGUAR': 'JLR Group',\n",
       " 'HONDA': 'Honda',\n",
       " 'GM': 'GM'}"
      ]
     },
     "execution_count": 390,
     "metadata": {},
     "output_type": "execute_result"
    }
   ],
   "source": [
    "brand_groups"
   ]
  },
  {
   "cell_type": "code",
   "execution_count": 214,
   "metadata": {},
   "outputs": [],
   "source": [
    "# add the group info to the dataframe\n",
    "\n",
    "for row in range(df.shape[0]):\n",
    "   df.loc[row, 'group'] = brand_groups[df.loc[row,'brand']]"
   ]
  },
  {
   "cell_type": "code",
   "execution_count": 227,
   "metadata": {},
   "outputs": [],
   "source": [
    "df.drop(18, axis = 0, inplace = True) #error: DAIMLER is actually \"Daimler Group\""
   ]
  },
  {
   "cell_type": "code",
   "execution_count": 248,
   "metadata": {},
   "outputs": [],
   "source": [
    "# create a groupby object summing the volumes by group\n",
    "\n",
    "grp = df.groupby('group').agg({'FY2018':'sum', 'FY2017':'sum'}).sort_values('FY2018', ascending = False).astype(int)"
   ]
  },
  {
   "cell_type": "code",
   "execution_count": 233,
   "metadata": {},
   "outputs": [
    {
     "data": {
      "text/plain": [
       "Index(['VW Group', 'PSA', 'Renault-Nissan', 'Hyundai-Kia', 'BMW Group', 'FCA',\n",
       "       'Ford', 'Daimler Group', 'Toyota', 'Volvo', 'JLR Group', 'Honda', 'GM'],\n",
       "      dtype='object', name='group')"
      ]
     },
     "execution_count": 233,
     "metadata": {},
     "output_type": "execute_result"
    }
   ],
   "source": [
    "grp.index"
   ]
  },
  {
   "cell_type": "code",
   "execution_count": 392,
   "metadata": {},
   "outputs": [],
   "source": [
    "grp = grp.reset_index()"
   ]
  },
  {
   "cell_type": "code",
   "execution_count": 393,
   "metadata": {},
   "outputs": [
    {
     "data": {
      "text/html": [
       "<div>\n",
       "<style scoped>\n",
       "    .dataframe tbody tr th:only-of-type {\n",
       "        vertical-align: middle;\n",
       "    }\n",
       "\n",
       "    .dataframe tbody tr th {\n",
       "        vertical-align: top;\n",
       "    }\n",
       "\n",
       "    .dataframe thead th {\n",
       "        text-align: right;\n",
       "    }\n",
       "</style>\n",
       "<table border=\"1\" class=\"dataframe\">\n",
       "  <thead>\n",
       "    <tr style=\"text-align: right;\">\n",
       "      <th></th>\n",
       "      <th>group</th>\n",
       "      <th>FY2018</th>\n",
       "      <th>FY2017</th>\n",
       "    </tr>\n",
       "  </thead>\n",
       "  <tbody>\n",
       "    <tr>\n",
       "      <th>0</th>\n",
       "      <td>VW Group</td>\n",
       "      <td>3728430</td>\n",
       "      <td>3712482</td>\n",
       "    </tr>\n",
       "    <tr>\n",
       "      <th>1</th>\n",
       "      <td>PSA</td>\n",
       "      <td>2499522</td>\n",
       "      <td>1885867</td>\n",
       "    </tr>\n",
       "    <tr>\n",
       "      <th>2</th>\n",
       "      <td>Renault-Nissan</td>\n",
       "      <td>2127889</td>\n",
       "      <td>2190018</td>\n",
       "    </tr>\n",
       "    <tr>\n",
       "      <th>3</th>\n",
       "      <td>Hyundai-Kia</td>\n",
       "      <td>1037596</td>\n",
       "      <td>995172</td>\n",
       "    </tr>\n",
       "    <tr>\n",
       "      <th>4</th>\n",
       "      <td>BMW Group</td>\n",
       "      <td>1033221</td>\n",
       "      <td>1043217</td>\n",
       "    </tr>\n",
       "    <tr>\n",
       "      <th>5</th>\n",
       "      <td>FCA</td>\n",
       "      <td>1011752</td>\n",
       "      <td>1034671</td>\n",
       "    </tr>\n",
       "    <tr>\n",
       "      <th>6</th>\n",
       "      <td>Ford</td>\n",
       "      <td>994397</td>\n",
       "      <td>1018436</td>\n",
       "    </tr>\n",
       "    <tr>\n",
       "      <th>7</th>\n",
       "      <td>Daimler Group</td>\n",
       "      <td>970187</td>\n",
       "      <td>992528</td>\n",
       "    </tr>\n",
       "    <tr>\n",
       "      <th>8</th>\n",
       "      <td>Toyota</td>\n",
       "      <td>760069</td>\n",
       "      <td>732290</td>\n",
       "    </tr>\n",
       "    <tr>\n",
       "      <th>9</th>\n",
       "      <td>Volvo</td>\n",
       "      <td>320071</td>\n",
       "      <td>301603</td>\n",
       "    </tr>\n",
       "    <tr>\n",
       "      <th>10</th>\n",
       "      <td>JLR Group</td>\n",
       "      <td>214188</td>\n",
       "      <td>221039</td>\n",
       "    </tr>\n",
       "    <tr>\n",
       "      <th>11</th>\n",
       "      <td>Honda</td>\n",
       "      <td>135584</td>\n",
       "      <td>140418</td>\n",
       "    </tr>\n",
       "    <tr>\n",
       "      <th>12</th>\n",
       "      <td>GM</td>\n",
       "      <td>3301</td>\n",
       "      <td>600996</td>\n",
       "    </tr>\n",
       "  </tbody>\n",
       "</table>\n",
       "</div>"
      ],
      "text/plain": [
       "             group   FY2018   FY2017\n",
       "0         VW Group  3728430  3712482\n",
       "1              PSA  2499522  1885867\n",
       "2   Renault-Nissan  2127889  2190018\n",
       "3      Hyundai-Kia  1037596   995172\n",
       "4        BMW Group  1033221  1043217\n",
       "5              FCA  1011752  1034671\n",
       "6             Ford   994397  1018436\n",
       "7    Daimler Group   970187   992528\n",
       "8           Toyota   760069   732290\n",
       "9            Volvo   320071   301603\n",
       "10       JLR Group   214188   221039\n",
       "11           Honda   135584   140418\n",
       "12              GM     3301   600996"
      ]
     },
     "execution_count": 393,
     "metadata": {},
     "output_type": "execute_result"
    }
   ],
   "source": [
    "grp_test"
   ]
  },
  {
   "cell_type": "code",
   "execution_count": 394,
   "metadata": {},
   "outputs": [],
   "source": [
    "# add the calculated sums to the dataframe\n",
    "for group in grp['group'].unique():\n",
    "    df.loc[df['group'] == group, 'group FY2018'] = grp.loc[grp['group'] == group, 'FY2018'].values[0]"
   ]
  },
  {
   "cell_type": "code",
   "execution_count": 395,
   "metadata": {},
   "outputs": [],
   "source": [
    "for group in grp['group'].unique():\n",
    "    df.loc[df['group'] == group, 'group FY2017'] = grp.loc[grp['group'] == group, 'FY2017'].values[0]"
   ]
  },
  {
   "cell_type": "code",
   "execution_count": 273,
   "metadata": {},
   "outputs": [],
   "source": [
    "# calculate the brand share within its group (e.g. what's the percentage of Audi sales in VW Group total)\n",
    "df['brand share in group FY2018'] = df['FY2018']/df['group FY2018']*100"
   ]
  },
  {
   "cell_type": "code",
   "execution_count": 397,
   "metadata": {},
   "outputs": [],
   "source": [
    "df['brand share in group FY2017'] = df['FY2017']/df['group FY2017']*100\n"
   ]
  },
  {
   "cell_type": "code",
   "execution_count": 283,
   "metadata": {},
   "outputs": [],
   "source": [
    "import matplotlib.pyplot as plt"
   ]
  },
  {
   "cell_type": "code",
   "execution_count": 328,
   "metadata": {},
   "outputs": [],
   "source": [
    "import random"
   ]
  },
  {
   "cell_type": "code",
   "execution_count": 381,
   "metadata": {},
   "outputs": [],
   "source": [
    "# generate 13 random color codes for the groups\n",
    "# the same but as list comprehension:\n",
    "# making sure values are RGB compatible, with leading zeros\n",
    "# random values within a restricted range to avoid very bright or very dark colors\n",
    "colorcodes = ['#' + ''.join(['{:02x}'.format(random.randint(50,250)) for _ in range(3)]) for _ in range(13)]"
   ]
  },
  {
   "cell_type": "code",
   "execution_count": 382,
   "metadata": {},
   "outputs": [],
   "source": [
    "# create a dictionary group:color code\n",
    "colormap = dict(zip(df['group'].unique(), colorcodes))"
   ]
  },
  {
   "cell_type": "code",
   "execution_count": 383,
   "metadata": {},
   "outputs": [],
   "source": [
    "# add a color code to identify groups\n",
    "df['groupcolor'] = df['group'].apply(lambda row: colormap[row])"
   ]
  },
  {
   "cell_type": "code",
   "execution_count": 409,
   "metadata": {},
   "outputs": [
    {
     "data": {
      "text/plain": [
       "Text(0.5, 1.0, 'Europe FY2018')"
      ]
     },
     "execution_count": 409,
     "metadata": {},
     "output_type": "execute_result"
    },
    {
     "data": {
      "image/png": "[encoded data removed]",
      "text/plain": [
       "<Figure size 864x576 with 1 Axes>"
      ]
     },
     "metadata": {
      "needs_background": "light"
     },
     "output_type": "display_data"
    }
   ],
   "source": [
    "# create a bar chart of the 2018 volumes with each group identified with a different color\n",
    "\n",
    "fig, ax = plt.subplots(figsize = (12,8))\n",
    "ax.bar(df['brand'].unique(), df['FY2018'].values, color = df['groupcolor'])\n",
    "ax.set_xticklabels(labels = df['brand'].unique(), rotation = 90)\n",
    "ax.set_ylabel('volumes')\n",
    "ax.set_title('Europe FY2018')"
   ]
  }
 ],
 "metadata": {
  "kernelspec": {
   "display_name": "Python 3",
   "language": "python",
   "name": "python3"
  },
  "language_info": {
   "codemirror_mode": {
    "name": "ipython",
    "version": 3
   },
   "file_extension": ".py",
   "mimetype": "text/x-python",
   "name": "python",
   "nbconvert_exporter": "python",
   "pygments_lexer": "ipython3",
   "version": "3.7.2"
  }
 },
 "nbformat": 4,
 "nbformat_minor": 2
}
